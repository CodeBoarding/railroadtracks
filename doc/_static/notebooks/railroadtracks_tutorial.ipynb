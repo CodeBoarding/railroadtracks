{
 "metadata": {
  "name": "",
  "signature": "sha256:6288b3e9704fa11f0c6f27a3fccca9148e30f1eabf9314b318598e0d97ceba74"
 },
 "nbformat": 3,
 "nbformat_minor": 0,
 "worksheets": [
  {
   "cells": [
    {
     "cell_type": "heading",
     "level": 1,
     "metadata": {},
     "source": [
      "Hacking recipes with `railroadtracks`\n"
     ]
    },
    {
     "cell_type": "heading",
     "level": 2,
     "metadata": {},
     "source": [
      "Creating a project"
     ]
    },
    {
     "cell_type": "markdown",
     "metadata": {},
     "source": [
      "Creating a project is meant to be *easy*"
     ]
    },
    {
     "cell_type": "code",
     "collapsed": false,
     "input": [
      "tmpdir = '/tmp/dummy_project' # this directory will be erased !"
     ],
     "language": "python",
     "metadata": {},
     "outputs": [],
     "prompt_number": 4
    },
    {
     "cell_type": "markdown",
     "metadata": {},
     "source": [
      "The \"!\" will run a shell command. Here we make sure that start cleanly."
     ]
    },
    {
     "cell_type": "code",
     "collapsed": false,
     "input": [
      "! rm -rf $tmpdir"
     ],
     "language": "python",
     "metadata": {},
     "outputs": [],
     "prompt_number": 5
    },
    {
     "cell_type": "code",
     "collapsed": false,
     "input": [
      "from railroadtracks import easy, rnaseq"
     ],
     "language": "python",
     "metadata": {},
     "outputs": [],
     "prompt_number": 6
    },
    {
     "cell_type": "markdown",
     "metadata": {},
     "source": [
      "Error messages should be relatively explicit, and lead the user to a quick resolution of problems"
     ]
    },
    {
     "cell_type": "code",
     "collapsed": false,
     "input": [
      "model = rnaseq\n",
      "# try/except to allow a fully automated evaluation of the notebook\n",
      "try:\n",
      "    project = easy.Project(model, \n",
      "                           tmpdir)\n",
      "except Exception as e:\n",
      "    print('Error: %s' % str(e))"
     ],
     "language": "python",
     "metadata": {},
     "outputs": [
      {
       "output_type": "stream",
       "stream": "stdout",
       "text": [
        "Error: The working directory '/tmp/dummy_project' should be a directory\n"
       ]
      }
     ],
     "prompt_number": 7
    },
    {
     "cell_type": "code",
     "collapsed": false,
     "input": [
      "! mkdir $tmpdir"
     ],
     "language": "python",
     "metadata": {},
     "outputs": [],
     "prompt_number": 8
    },
    {
     "cell_type": "markdown",
     "metadata": {},
     "source": [
      "A project can created from a *model* (that is a Python module describing steps and assets) and a workind directory (where all intermediate and final results will be stored)"
     ]
    },
    {
     "cell_type": "code",
     "collapsed": false,
     "input": [
      "project = easy.Project(model, wd=tmpdir)"
     ],
     "language": "python",
     "metadata": {},
     "outputs": [],
     "prompt_number": 9
    },
    {
     "cell_type": "heading",
     "level": 2,
     "metadata": {},
     "source": [
      "Displaying a project"
     ]
    },
    {
     "cell_type": "markdown",
     "metadata": {},
     "source": [
      "Railroadtracks objects often have a string representation. For example, we can print our project:"
     ]
    },
    {
     "cell_type": "code",
     "collapsed": false,
     "input": [
      "print(project)"
     ],
     "language": "python",
     "metadata": {},
     "outputs": [
      {
       "output_type": "stream",
       "stream": "stdout",
       "text": [
        "Status: New \"railroadtracks\" project\n",
        "Working directory: /tmp/dummy_project\n",
        "Storage\n",
        "  Available: 340.00 GB\n",
        "  Total:     464.00 GB\n",
        "Tasks\n",
        "  Total:     0\n",
        "--\n",
        "Activity    Progress\n",
        "--\n",
        "Result Type    Progress\n",
        "\n"
       ]
      }
     ],
     "prompt_number": 10
    },
    {
     "cell_type": "markdown",
     "metadata": {},
     "source": [
      "HTML display is also available for some of the objects, and this can be used in the IPython notebook."
     ]
    },
    {
     "cell_type": "code",
     "collapsed": false,
     "input": [
      "from IPython.display import display\n",
      "import railroadtracks.ipython as rsip\n",
      "rsip.init_printing()"
     ],
     "language": "python",
     "metadata": {},
     "outputs": [],
     "prompt_number": 11
    },
    {
     "cell_type": "markdown",
     "metadata": {},
     "source": [
      "The newly created project is empty, and the HTML view reflects this."
     ]
    },
    {
     "cell_type": "code",
     "collapsed": false,
     "input": [
      "display(project)"
     ],
     "language": "python",
     "metadata": {},
     "outputs": [
      {
       "html": [
        "<style>\n",
        "\n",
        "table.rsrsproject {\n",
        "  width: 100%;\n",
        "  max-width: 40em;\n",
        "  border-collapse:separate;\n",
        "  border:solid black 2px;\n",
        "  -moz-border-radius:6px;\n",
        "  -webkit-border-radius:6px;\n",
        "  border-radius:6px;\n",
        "}\n",
        "table.rsrsproject thead {\n",
        "  background-color:rgb(235,235,235);\n",
        "}\n",
        "table.rsrsproject th:first-child {\n",
        "  -moz-border-radius:6px 0 0 0;\n",
        "  -webkit-border-radius:6px 0 0 0;\n",
        "  border-radius:6px 0 0 0;\n",
        "}\n",
        "table.rsrsproject th:last-child {\n",
        "  -moz-border-radius: 0 6px 0 0;\n",
        "  -webkit-border-radius: 0 6px 0 0;\n",
        "  border-radius: 0 6px 0 0;\n",
        "}\n",
        "table.rsrsproject th:only-child {\n",
        "  -moz-border-radius: 6px 6px 0 0;\n",
        "  -webkit-border-radius: 6px 6px 0 0;\n",
        "  border-radius: 6px 6px 0 0;\n",
        "}\n",
        "table.rsrsproject .inverse {\n",
        "  background-color: rgb(50,50,50);\n",
        "  color: rgb(230,230,230);\n",
        "}\n",
        "\n",
        "progress.rsrsproject {\n",
        "  -webkit-appearance:none;\n",
        "  -moz-appearance:none;\n",
        "  appearance:none;\n",
        "}\n",
        "progress[value].rsrsproject::-webkit-progress-bar {\n",
        "  background-color: rgb(230,230,230);\n",
        "  box-shadow: 0 2px 5px rgba(0,0,0,0.25) inset;\n",
        "}\n",
        "progress[value].rsrsproject::-webkit-progress-value {\n",
        "  background-color: rgb(150,150,250);\n",
        "}\n",
        "progress[value].rsrsproject {\n",
        "  border: none;\n",
        "  box-shadow: 0 2px 5px rgba(0,0,0,0.25) inset;\n",
        "}\n",
        "progress[value].rsrsproject::-moz-progress-bar {\n",
        "  background-color: rgb(150,150,250);\n",
        "}\n",
        "\n",
        "</style>\n",
        "<table class=\"rsrsproject\">\n",
        "<thead>\n",
        "  <tr>\n",
        "    <th colspan=\"2\">\n",
        "      New \"railroadtracks\" project\n",
        "    </th>\n",
        "  </tr>\n",
        "  <tr>\n",
        "    <th colspan=\"2\">Working directory</th>\n",
        "  </tr>\n",
        "</thead>\n",
        "<tbody>\n",
        "  <tr>\n",
        "    <td colspan=\"2\">/tmp/dummy_project</td>\n",
        "  </tr>\n",
        "  <tr>\n",
        "    <td>Disk space</td>\n",
        "    <td><progress class=\"rsrsproject\" max=\"464\" value=\"123\"></progress>&nbsp;123.00GB (total: 464.00GB)</td>\n",
        "  </tr>\n",
        "</tbody>\n",
        "<thead>\n",
        "  <tr>\n",
        "    <td colspan=\"2\">Tasks</td>\n",
        "  </tr>\n",
        "</thead>\n",
        "<tbody>\n",
        "  \n",
        "</tbody>\n",
        "</table>\n",
        "<table  class=\"rsrsproject\">\n",
        "<thead>\n",
        "  <tr>\n",
        "  <th>Activity</th>\n",
        "  <th>Progress</th>\n",
        "  </tr>\n",
        "</thead>\n",
        "<tbody>\n",
        "  \n",
        "</tbody>\n",
        "</table>\n",
        "<table class=\"rsrsproject\">\n",
        "<thead>\n",
        "  <tr>\n",
        "  <th>Result Type</th>\n",
        "  <th>Progress</th>\n",
        "  </tr>\n",
        "</thead>\n",
        "<tbody>\n",
        "  \n",
        "</tbody>\n",
        "</table>"
       ],
       "metadata": {},
       "output_type": "display_data",
       "text": [
        "\n",
        "New project\n",
        "Working directory: /tmp/dummy_project\n",
        "Database file: /tmp/dummy_project/railroadtracks.db\n",
        "Number of recorded steps: 0"
       ]
      }
     ],
     "prompt_number": 12
    },
    {
     "cell_type": "heading",
     "level": 2,
     "metadata": {},
     "source": [
      "Working with model environments"
     ]
    },
    {
     "cell_type": "markdown",
     "metadata": {},
     "source": [
      "A model environment is a convenience class that exposes the content of a model (see the creation of a project above) in a form convenient for writing *recipes* (that is sequence of steps), with a special attention to interactive use (for example with ipython).\n",
      "\n",
      "Creating a working environment from a model is meant to be as easy as creating a project.\n",
      "\n",
      "<style>\n",
      "div.mybox {\n",
      "  border: solid 1px rgb(250,200,200);\n",
      "  background-color: rgb(250,230,230);\n",
      "}\n",
      "div.mybox h3 {\n",
      "  text-decoration: underline;\n",
      "  width: 100%;\n",
      "  background-color: rgba(0,0,0,.1);\n",
      "  margin-top: 0px;\n",
      "}\n",
      "div.mybox p {\n",
      "  padding: .2em;\n",
      "}\n",
      "</style>\n",
      "<div class=\"mybox\">\n",
      "   <h3>Note</h3>\n",
      "   <p> The attentive reader will note that an other model could be written and used (either as a module like `rnaseq` currently is, or as an object)\n",
      "   </p>\n",
      "</div>"
     ]
    },
    {
     "cell_type": "code",
     "collapsed": false,
     "input": [
      "env = easy.Environment(rnaseq)"
     ],
     "language": "python",
     "metadata": {},
     "outputs": [],
     "prompt_number": 13
    },
    {
     "cell_type": "markdown",
     "metadata": {},
     "source": [
      "In this example, we will build\n",
      "- a bowtie index for a reference\n",
      "- align reads in FASTQ files using that index\n",
      "\n",
      "So first, we will need a reference. The package is shipping with the public sequence of a phage."
     ]
    },
    {
     "cell_type": "code",
     "collapsed": false,
     "input": [
      "import railroadtracks.simulate\n",
      "reference_fn = railroadtracks.simulate.PHAGEFASTA"
     ],
     "language": "python",
     "metadata": {},
     "outputs": [],
     "prompt_number": 14
    },
    {
     "cell_type": "markdown",
     "metadata": {},
     "source": [
      "We also need an indexer (indexing part of an aligner).\n",
      "\n",
      "The working environment we created contains an attribute `activities` that acts a namespace of activiyies declared in the model. Writing `env.activities` and hitting `<tab>` on ipython would list the options available. Here we select bowtie."
     ]
    },
    {
     "cell_type": "code",
     "collapsed": false,
     "input": [
      "bowtie2build = env.activities.INDEX.bowtie2build\n",
      "#bwabuild = env.activities.INDEX.bwaindex"
     ],
     "language": "python",
     "metadata": {},
     "outputs": [],
     "prompt_number": 15
    },
    {
     "cell_type": "code",
     "collapsed": false,
     "input": [
      "try:\n",
      "    source = bowtie2build.Assets.Source(reference_fn)\n",
      "    #source = bwabuild.Assets.Source(reference_fn)\n",
      "except Exception as e:\n",
      "    print('Error: %s' % str(e))"
     ],
     "language": "python",
     "metadata": {},
     "outputs": [
      {
       "output_type": "stream",
       "stream": "stdout",
       "text": [
        "Error: The object \"'/Users/thisuser/Projects/py27_env/lib/python2.7/site-packages/railroadtracks-0.3.0_dev-py2.7.egg/railroadtracks/EF204940.FASTA'\" was expected to be of type <class 'railroadtracks.model.files.SavedFASTA'> (but is a <type 'str'>)\n"
       ]
      }
     ],
     "prompt_number": 16
    },
    {
     "cell_type": "markdown",
     "metadata": {},
     "source": [
      "Again, error messages are meant to be rather explicit. Here the model is typing the input assets (which allows early consistency checks). The error disappears when the required class is used."
     ]
    },
    {
     "cell_type": "code",
     "collapsed": false,
     "input": [
      "reference_fasta = rnaseq.SavedFASTA(reference_fn)\n",
      "source = bowtie2build.Assets.Source(reference_fasta)\n",
      "#source = bwabuild.Assets.Source(reference_fasta)"
     ],
     "language": "python",
     "metadata": {},
     "outputs": [],
     "prompt_number": 17
    },
    {
     "cell_type": "markdown",
     "metadata": {},
     "source": [
      "While one should obviously know where the input file must be, knowing where and how to store results files is mostly a burden so we can leave it undefined, yet manipulate the assets."
     ]
    },
    {
     "cell_type": "code",
     "collapsed": false,
     "input": [
      "target = bowtie2build.Assets.Target.createundefined()"
     ],
     "language": "python",
     "metadata": {},
     "outputs": [],
     "prompt_number": 18
    },
    {
     "cell_type": "code",
     "collapsed": false,
     "input": [
      "display(target)"
     ],
     "language": "python",
     "metadata": {},
     "outputs": [
      {
       "html": [
        "<table class=\"rsrsproject\">\n",
        "<thead>\n",
        "  <tr>\n",
        "  <th>Name</th>\n",
        "  <th>Class</th>\n",
        "  <th></th>\n",
        "  </tr>\n",
        "</thead>\n",
        "<tbody>\n",
        "  \n",
        "  <tr>\n",
        "    <td>indexfilepattern</td>\n",
        "    <td>&lt;class &#39;railroadtracks.model.aligners.SavedBowtie2Index&#39;&gt;</td>\n",
        "    <td class=\"inverse\">(\"undefined\")</td>\n",
        "  </tr>\n",
        "  \n",
        "</tbody>\n",
        "</table>"
       ],
       "metadata": {},
       "output_type": "display_data",
       "text": [
        "<railroadtracks.core.Target at 0x10a802f90>"
       ]
      }
     ],
     "prompt_number": 19
    },
    {
     "cell_type": "code",
     "collapsed": false,
     "input": [
      "assets_index = bowtie2build.Assets(source, target)"
     ],
     "language": "python",
     "metadata": {},
     "outputs": [],
     "prompt_number": 20
    },
    {
     "cell_type": "markdown",
     "metadata": {},
     "source": [
      "The target is used to create a bundle of assets, while not yet fully defined (that the actual file name, or information about the file name, is not yet defined)"
     ]
    },
    {
     "cell_type": "markdown",
     "metadata": {},
     "source": [
      "We used the class method `createundefined()` to show how to explicitly create an undefined target, but specifying this is not necessary when creating "
     ]
    },
    {
     "cell_type": "code",
     "collapsed": false,
     "input": [
      "display(bowtie2build.Assets(source, target=None).target)"
     ],
     "language": "python",
     "metadata": {},
     "outputs": [
      {
       "html": [
        "<table class=\"rsrsproject\">\n",
        "<thead>\n",
        "  <tr>\n",
        "  <th>Name</th>\n",
        "  <th>Class</th>\n",
        "  <th></th>\n",
        "  </tr>\n",
        "</thead>\n",
        "<tbody>\n",
        "  \n",
        "  <tr>\n",
        "    <td>indexfilepattern</td>\n",
        "    <td>&lt;class &#39;railroadtracks.model.aligners.SavedBowtie2Index&#39;&gt;</td>\n",
        "    <td class=\"inverse\">(\"undefined\")</td>\n",
        "  </tr>\n",
        "  \n",
        "</tbody>\n",
        "</table>"
       ],
       "metadata": {},
       "output_type": "display_data",
       "text": [
        "<railroadtracks.core.Target at 0x10a7dca10>"
       ]
      }
     ],
     "prompt_number": 21
    },
    {
     "cell_type": "code",
     "collapsed": false,
     "input": [
      "display(bowtie2build.Assets(source))"
     ],
     "language": "python",
     "metadata": {},
     "outputs": [
      {
       "metadata": {},
       "output_type": "display_data",
       "text": [
        "<railroadtracks.model.aligners.Assets at 0x10a7dcb50>"
       ]
      }
     ],
     "prompt_number": 22
    },
    {
     "cell_type": "markdown",
     "metadata": {},
     "source": [
      "We add a task to the project.\n",
      "\n",
      "Note that the task is labelled as \"To do\"..."
     ]
    },
    {
     "cell_type": "code",
     "collapsed": false,
     "input": [
      "task = project.add_task(bowtie2build, assets_index)\n",
      "#task = project.add_task(bwabuild, bwabuild.Assets(source, target))"
     ],
     "language": "python",
     "metadata": {},
     "outputs": [],
     "prompt_number": 23
    },
    {
     "cell_type": "code",
     "collapsed": false,
     "input": [
      "task.info"
     ],
     "language": "python",
     "metadata": {},
     "outputs": [
      {
       "metadata": {},
       "output_type": "pyout",
       "prompt_number": 24,
       "text": [
        "(1, u'To do', 1412693077.433343)"
       ]
      }
     ],
     "prompt_number": 24
    },
    {
     "cell_type": "markdown",
     "metadata": {},
     "source": [
      "...and that the database ID it is given is \"new\" (that is this is a new task)."
     ]
    },
    {
     "cell_type": "code",
     "collapsed": false,
     "input": [
      "print(task.task_id)"
     ],
     "language": "python",
     "metadata": {},
     "outputs": [
      {
       "output_type": "stream",
       "stream": "stdout",
       "text": [
        "DbID(id=1, new=True)\n"
       ]
      }
     ],
     "prompt_number": 25
    },
    {
     "cell_type": "markdown",
     "metadata": {},
     "source": [
      "Also, note the target is now fully defined. This was performed automatically by the framework."
     ]
    },
    {
     "cell_type": "code",
     "collapsed": false,
     "input": [
      "display(task)"
     ],
     "language": "python",
     "metadata": {},
     "outputs": [
      {
       "html": [
        "<table>\n",
        "<thead>\n",
        "</thead>\n",
        "<tbody>\n",
        "<tr><td>ID</td><td>DbID(id=1, new=True)</td></tr>\n",
        "<tr><td>Info</td><td>(1, u'To do', 1412693077.433343)</td></tr>\n",
        "<tr><td>Step</td><td>Bowtie2Build</td></tr>\n",
        "<tr><td>Source</td><td colspan=\"2\">\n",
        "\n",
        "<table class=\"rsrsproject\">\n",
        "<thead>\n",
        "  <tr>\n",
        "  <th>Name</th>\n",
        "  <th>Class</th>\n",
        "  <th></th>\n",
        "  </tr>\n",
        "</thead>\n",
        "<tbody>\n",
        "  \n",
        "  <tr>\n",
        "    <td>reference</td>\n",
        "    <td>&lt;class &#39;railroadtracks.model.files.SavedFASTA&#39;&gt;</td>\n",
        "    <td class=\"\">(\"defined\")</td>\n",
        "  </tr>\n",
        "  \n",
        "</tbody>\n",
        "</table>\n",
        "\n",
        "</td>\n",
        "</tr>\n",
        "<tr><td>Target</td>\n",
        "<td colspan=\"2\">\n",
        "\n",
        "<table class=\"rsrsproject\">\n",
        "<thead>\n",
        "  <tr>\n",
        "  <th>Name</th>\n",
        "  <th>Class</th>\n",
        "  <th></th>\n",
        "  </tr>\n",
        "</thead>\n",
        "<tbody>\n",
        "  \n",
        "  <tr>\n",
        "    <td>indexfilepattern</td>\n",
        "    <td>&lt;class &#39;railroadtracks.model.aligners.SavedBowtie2Index&#39;&gt;</td>\n",
        "    <td class=\"\">(\"defined\")</td>\n",
        "  </tr>\n",
        "  \n",
        "</tbody>\n",
        "</table>\n",
        "\n",
        "</td>\n",
        "</tr>\n",
        "<tr><td>Parameters</td><td>()</td></tr>\n",
        "</tbody>\n",
        "</table>"
       ],
       "metadata": {},
       "output_type": "display_data",
       "text": [
        "<railroadtracks.easy.Task at 0x10a7dcf10>"
       ]
      }
     ],
     "prompt_number": 26
    },
    {
     "cell_type": "markdown",
     "metadata": {},
     "source": [
      "Thanks to the persistent layer, adding tasks can be done without having to explicitly keep track of the operations already performed. Identical tasks will be identified as such and a *unique* ID is assigned to them.\n",
      "\n",
      "To demonstrate this, we add the same task again (with an undefined target). The result is the same ID (1), and the attribute `new` tells that this ID is not new."
     ]
    },
    {
     "cell_type": "code",
     "collapsed": false,
     "input": [
      "assets_again = bowtie2build.Assets(bowtie2build.Assets.Source(rnaseq.SavedFASTA(reference_fn)),\n",
      "                                  bowtie2build.Assets.Target.createundefined())\n",
      "task = project.add_task(bowtie2build, assets_again)\n",
      "display(task)"
     ],
     "language": "python",
     "metadata": {},
     "outputs": [
      {
       "html": [
        "<table>\n",
        "<thead>\n",
        "</thead>\n",
        "<tbody>\n",
        "<tr><td>ID</td><td>DbID(id=1, new=False)</td></tr>\n",
        "<tr><td>Info</td><td>(1, u'To do', 1412693077.433343)</td></tr>\n",
        "<tr><td>Step</td><td>Bowtie2Build</td></tr>\n",
        "<tr><td>Source</td><td colspan=\"2\">\n",
        "\n",
        "<table class=\"rsrsproject\">\n",
        "<thead>\n",
        "  <tr>\n",
        "  <th>Name</th>\n",
        "  <th>Class</th>\n",
        "  <th></th>\n",
        "  </tr>\n",
        "</thead>\n",
        "<tbody>\n",
        "  \n",
        "  <tr>\n",
        "    <td>reference</td>\n",
        "    <td>&lt;class &#39;railroadtracks.model.files.SavedFASTA&#39;&gt;</td>\n",
        "    <td class=\"\">(\"defined\")</td>\n",
        "  </tr>\n",
        "  \n",
        "</tbody>\n",
        "</table>\n",
        "\n",
        "</td>\n",
        "</tr>\n",
        "<tr><td>Target</td>\n",
        "<td colspan=\"2\">\n",
        "\n",
        "<table class=\"rsrsproject\">\n",
        "<thead>\n",
        "  <tr>\n",
        "  <th>Name</th>\n",
        "  <th>Class</th>\n",
        "  <th></th>\n",
        "  </tr>\n",
        "</thead>\n",
        "<tbody>\n",
        "  \n",
        "  <tr>\n",
        "    <td>indexfilepattern</td>\n",
        "    <td>&lt;class &#39;railroadtracks.model.aligners.SavedBowtie2Index&#39;&gt;</td>\n",
        "    <td class=\"\">(\"defined\")</td>\n",
        "  </tr>\n",
        "  \n",
        "</tbody>\n",
        "</table>\n",
        "\n",
        "</td>\n",
        "</tr>\n",
        "<tr><td>Parameters</td><td>()</td></tr>\n",
        "</tbody>\n",
        "</table>"
       ],
       "metadata": {},
       "output_type": "display_data",
       "text": [
        "<railroadtracks.easy.Task at 0x10a80d990>"
       ]
      }
     ],
     "prompt_number": 27
    },
    {
     "cell_type": "code",
     "collapsed": false,
     "input": [
      "listofindexers = (env.activities.INDEX.gsnapindex, \n",
      "                  env.activities.INDEX.bowtie2build)\n",
      "listoftasks = list()\n",
      "for someindexer in listofindexers:\n",
      "    assets_again = someindexer.Assets(someindexer.Assets.Source(reference_fasta),\n",
      "                                      someindexer.Assets.Target.createundefined())\n",
      "    listoftasks.append(project.add_task(someindexer, assets_again))"
     ],
     "language": "python",
     "metadata": {},
     "outputs": [
      {
       "ename": "UnifexError",
       "evalue": "Command: gmap_build\n                    [Errno 2] No such file or directory",
       "output_type": "pyerr",
       "traceback": [
        "\u001b[0;31m---------------------------------------------------------------------------\u001b[0m\n\u001b[0;31mUnifexError\u001b[0m                               Traceback (most recent call last)",
        "\u001b[0;32m<ipython-input-28-ae857527bd06>\u001b[0m in \u001b[0;36m<module>\u001b[0;34m()\u001b[0m\n\u001b[1;32m      5\u001b[0m     assets_again = someindexer.Assets(someindexer.Assets.Source(reference_fasta),\n\u001b[1;32m      6\u001b[0m                                       someindexer.Assets.Target.createundefined())\n\u001b[0;32m----> 7\u001b[0;31m     \u001b[0mlistoftasks\u001b[0m\u001b[0;34m.\u001b[0m\u001b[0mappend\u001b[0m\u001b[0;34m(\u001b[0m\u001b[0mproject\u001b[0m\u001b[0;34m.\u001b[0m\u001b[0madd_task\u001b[0m\u001b[0;34m(\u001b[0m\u001b[0msomeindexer\u001b[0m\u001b[0;34m,\u001b[0m \u001b[0massets_again\u001b[0m\u001b[0;34m)\u001b[0m\u001b[0;34m)\u001b[0m\u001b[0;34m\u001b[0m\u001b[0m\n\u001b[0m",
        "\u001b[0;32m/Users/thisuser/Projects/py27_env/lib/python2.7/site-packages/railroadtracks-0.3.0_dev-py2.7.egg/railroadtracks/easy.pyc\u001b[0m in \u001b[0;36madd_task\u001b[0;34m(self, step, assets, parameters, tag)\u001b[0m\n\u001b[1;32m    773\u001b[0m         \u001b[0;34m:\u001b[0m\u001b[0mparam\u001b[0m \u001b[0mtag\u001b[0m\u001b[0;34m:\u001b[0m \u001b[0ma\u001b[0m \u001b[0mtag\u001b[0m \u001b[0;34m(\u001b[0m\u001b[0mto\u001b[0m \u001b[0mdifferentiate\u001b[0m \u001b[0mrepetitions\u001b[0m \u001b[0mof\u001b[0m \u001b[0mthe\u001b[0m \u001b[0mexact\u001b[0m \u001b[0msame\u001b[0m \u001b[0mtask\u001b[0m\u001b[0;34m)\u001b[0m\u001b[0;34m\u001b[0m\u001b[0m\n\u001b[1;32m    774\u001b[0m         \"\"\"\n\u001b[0;32m--> 775\u001b[0;31m         \u001b[0mstep_concrete_id\u001b[0m \u001b[0;34m=\u001b[0m \u001b[0mself\u001b[0m\u001b[0;34m.\u001b[0m\u001b[0mtodo\u001b[0m\u001b[0;34m.\u001b[0m\u001b[0madd\u001b[0m\u001b[0;34m(\u001b[0m\u001b[0mstep\u001b[0m\u001b[0;34m,\u001b[0m \u001b[0massets\u001b[0m\u001b[0;34m,\u001b[0m \u001b[0mparameters\u001b[0m\u001b[0;34m=\u001b[0m\u001b[0mparameters\u001b[0m\u001b[0;34m,\u001b[0m \u001b[0mtag\u001b[0m\u001b[0;34m=\u001b[0m\u001b[0mtag\u001b[0m\u001b[0;34m)\u001b[0m\u001b[0;34m\u001b[0m\u001b[0m\n\u001b[0m\u001b[1;32m    776\u001b[0m         \u001b[0mcall\u001b[0m \u001b[0;34m=\u001b[0m \u001b[0munifex\u001b[0m\u001b[0;34m.\u001b[0m\u001b[0mCall\u001b[0m\u001b[0;34m(\u001b[0m\u001b[0mstep\u001b[0m\u001b[0;34m,\u001b[0m \u001b[0massets\u001b[0m\u001b[0;34m,\u001b[0m \u001b[0mparameters\u001b[0m\u001b[0;34m)\u001b[0m\u001b[0;34m\u001b[0m\u001b[0m\n\u001b[1;32m    777\u001b[0m         \u001b[0mtask\u001b[0m \u001b[0;34m=\u001b[0m \u001b[0mTask\u001b[0m\u001b[0;34m(\u001b[0m\u001b[0mself\u001b[0m\u001b[0;34m,\u001b[0m \u001b[0mcall\u001b[0m\u001b[0;34m,\u001b[0m \u001b[0mstep_concrete_id\u001b[0m\u001b[0;34m)\u001b[0m\u001b[0;34m\u001b[0m\u001b[0m\n",
        "\u001b[0;32m/Users/thisuser/Projects/py27_env/lib/python2.7/site-packages/railroadtracks-0.3.0_dev-py2.7.egg/railroadtracks/hortator.pyc\u001b[0m in \u001b[0;36madd\u001b[0;34m(self, step, assets, parameters, tag)\u001b[0m\n\u001b[1;32m    188\u001b[0m         \u001b[0;31m# obtain the id for variant\u001b[0m\u001b[0;34m\u001b[0m\u001b[0;34m\u001b[0m\u001b[0m\n\u001b[1;32m    189\u001b[0m         id_stepvariant = self._cache.id_step_variant(step,\n\u001b[0;32m--> 190\u001b[0;31m                                                      step.activities)\n\u001b[0m\u001b[1;32m    191\u001b[0m         \u001b[0;31m# undefined sources is not accepted\u001b[0m\u001b[0;34m\u001b[0m\u001b[0;34m\u001b[0m\u001b[0m\n\u001b[1;32m    192\u001b[0m         \u001b[0;32mif\u001b[0m \u001b[0many\u001b[0m\u001b[0;34m(\u001b[0m\u001b[0;32mnot\u001b[0m \u001b[0mx\u001b[0m\u001b[0;34m.\u001b[0m\u001b[0m_defined\u001b[0m \u001b[0;32mfor\u001b[0m \u001b[0mx\u001b[0m \u001b[0;32min\u001b[0m \u001b[0massets\u001b[0m\u001b[0;34m.\u001b[0m\u001b[0msource\u001b[0m\u001b[0;34m)\u001b[0m\u001b[0;34m:\u001b[0m\u001b[0;34m\u001b[0m\u001b[0m\n",
        "\u001b[0;32m/Users/thisuser/Projects/py27_env/lib/python2.7/site-packages/railroadtracks-0.3.0_dev-py2.7.egg/railroadtracks/hortator.pyc\u001b[0m in \u001b[0;36mid_step_variant\u001b[0;34m(self, step, activities)\u001b[0m\n\u001b[1;32m   1222\u001b[0m \u001b[0;34m\u001b[0m\u001b[0m\n\u001b[1;32m   1223\u001b[0m         \u001b[0mexecutable\u001b[0m \u001b[0;34m=\u001b[0m \u001b[0mstep\u001b[0m\u001b[0;34m.\u001b[0m\u001b[0m_execpath\u001b[0m\u001b[0;34m\u001b[0m\u001b[0m\n\u001b[0;32m-> 1224\u001b[0;31m         \u001b[0mversion\u001b[0m \u001b[0;34m=\u001b[0m \u001b[0mstep\u001b[0m\u001b[0;34m.\u001b[0m\u001b[0mversion\u001b[0m\u001b[0;34m\u001b[0m\u001b[0m\n\u001b[0m\u001b[1;32m   1225\u001b[0m \u001b[0;34m\u001b[0m\u001b[0m\n\u001b[1;32m   1226\u001b[0m         \u001b[0mstep_type_id\u001b[0m \u001b[0;34m=\u001b[0m \u001b[0mself\u001b[0m\u001b[0;34m.\u001b[0m\u001b[0mid_step_type\u001b[0m\u001b[0;34m(\u001b[0m\u001b[0mactivities\u001b[0m\u001b[0;34m)\u001b[0m\u001b[0;34m\u001b[0m\u001b[0m\n",
        "\u001b[0;32m/Users/thisuser/Projects/py27_env/lib/python2.7/site-packages/railroadtracks-0.3.0_dev-py2.7.egg/railroadtracks/model/aligners.pyc\u001b[0m in \u001b[0;36mversion\u001b[0;34m(self)\u001b[0m\n\u001b[1;32m    901\u001b[0m                 \u001b[0;32mexcept\u001b[0m \u001b[0mOSError\u001b[0m \u001b[0;32mas\u001b[0m \u001b[0mose\u001b[0m\u001b[0;34m:\u001b[0m\u001b[0;34m\u001b[0m\u001b[0m\n\u001b[1;32m    902\u001b[0m                     raise UnifexError(\"\"\"Command: %s\n\u001b[0;32m--> 903\u001b[0;31m                     %s\"\"\" % (' '.join(cmd), ose))\n\u001b[0m\u001b[1;32m    904\u001b[0m             \u001b[0;32mfor\u001b[0m \u001b[0mrow\u001b[0m \u001b[0;32min\u001b[0m \u001b[0mproc\u001b[0m\u001b[0;34m.\u001b[0m\u001b[0mstdout\u001b[0m\u001b[0;34m:\u001b[0m\u001b[0;34m\u001b[0m\u001b[0m\n\u001b[1;32m    905\u001b[0m                 \u001b[0mm\u001b[0m \u001b[0;34m=\u001b[0m \u001b[0mre\u001b[0m\u001b[0;34m.\u001b[0m\u001b[0mmatch\u001b[0m\u001b[0;34m(\u001b[0m\u001b[0;34m'^.+? version ([0-9-]+)\\.$'\u001b[0m\u001b[0;34m,\u001b[0m \u001b[0mrow\u001b[0m\u001b[0;34m)\u001b[0m\u001b[0;34m\u001b[0m\u001b[0m\n",
        "\u001b[0;31mUnifexError\u001b[0m: Command: gmap_build\n                    [Errno 2] No such file or directory"
       ]
      }
     ],
     "prompt_number": 28
    },
    {
     "cell_type": "markdown",
     "metadata": {},
     "source": [
      "Declaring tasks to be performed is only loosely coupled with how to run these tasks. We have a convenience function that makes a task as well as a workstation-type execution method.\n",
      "\n",
      "<div class=\"mybox\">\n",
      "   <h3>Note</h3>\n",
      "   <p> The framework can produce BASH/shell calls that would execute the task. More details on this can be found below.\n",
      "   </p>\n",
      "   <p> We already have an extension that can build *hadwrap* calls, and through it use Hadoop for the execution of tasks.\n",
      "   </p>\n",
      "</div>"
     ]
    },
    {
     "cell_type": "markdown",
     "metadata": {},
     "source": [
      "Wouldn't it be nice if there was a way to check visually how steps are connected ?"
     ]
    },
    {
     "cell_type": "code",
     "collapsed": false,
     "input": [
      "# fetch the ID for the reference FASTA (this is rather low-level and making this simpler is work-in-progress)\n",
      "seid = project.add_asset(rnaseq.SavedFASTA(reference_fn))\n",
      "from IPython.display import SVG\n",
      "SVG(rsip.svg_destinationgraph_storedentity(project, [seid, ]))\n"
     ],
     "language": "python",
     "metadata": {},
     "outputs": [
      {
       "metadata": {},
       "output_type": "pyout",
       "prompt_number": 29,
       "svg": [
        "<svg height=\"207pt\" viewBox=\"0.00 0.00 276.32 207.00\" width=\"276pt\" xmlns=\"http://www.w3.org/2000/svg\" xmlns:xlink=\"http://www.w3.org/1999/xlink\">\n",
        "<g class=\"graph\" id=\"graph0\" transform=\"scale(1 1) rotate(0) translate(4 202.5)\">\n",
        "<title>%3</title>\n",
        "<polygon fill=\"white\" points=\"-4,4.5 -4,-202.5 272.324,-202.5 272.324,4.5 -4,4.5\" stroke=\"none\"/>\n",
        "<!-- SavedFASTA_None -->\n",
        "<g class=\"node\" id=\"node1\"><title>SavedFASTA_None</title>\n",
        "<polygon fill=\"none\" points=\"91.4539,-153 91.4539,-198 183.866,-198 183.866,-153 91.4539,-153\" stroke=\"black\"/>\n",
        "<text font-family=\"Times,serif\" font-size=\"14.00\" text-anchor=\"middle\" x=\"137.66\" y=\"-182.8\">SavedFASTA</text>\n",
        "<polyline fill=\"none\" points=\"91.4539,-176 183.866,-176 \" stroke=\"black\"/>\n",
        "<text font-family=\"Times,serif\" font-size=\"14.00\" text-anchor=\"middle\" x=\"137.66\" y=\"-160.3\">[None]</text>\n",
        "</g>\n",
        "<!-- railroadtracks.model.aligners.Bowtie2Build -->\n",
        "<g class=\"node\" id=\"node2\"><title>railroadtracks.model.aligners.Bowtie2Build</title>\n",
        "<polygon fill=\"none\" points=\"268.488,-117 6.83167,-117 6.83167,-81 268.488,-81 268.488,-117\" stroke=\"black\"/>\n",
        "<text font-family=\"Times,serif\" font-size=\"14.00\" text-anchor=\"middle\" x=\"137.66\" y=\"-94.8\">railroadtracks.model.aligners.Bowtie2Build</text>\n",
        "<text font-family=\"Times,serif\" font-size=\"14.00\" text-anchor=\"middle\" x=\"3.5\" y=\"-119.8\">4</text>\n",
        "</g>\n",
        "<!-- SavedFASTA_None&#45;&gt;railroadtracks.model.aligners.Bowtie2Build -->\n",
        "<g class=\"edge\" id=\"edge1\"><title>SavedFASTA_None-&gt;railroadtracks.model.aligners.Bowtie2Build</title>\n",
        "<path d=\"M137.66,-153.35C137.66,-145.37 137.66,-136.16 137.66,-127.66\" fill=\"none\" stroke=\"black\"/>\n",
        "<polygon fill=\"black\" points=\"141.16,-127.43 137.66,-117.43 134.16,-127.43 141.16,-127.43\" stroke=\"black\"/>\n",
        "</g>\n",
        "<!-- SavedBowtie2Index_indexfilepattern -->\n",
        "<g class=\"node\" id=\"node3\"><title>SavedBowtie2Index_indexfilepattern</title>\n",
        "<polygon fill=\"none\" points=\"72.66,-0 72.66,-45 202.66,-45 202.66,-0 72.66,-0\" stroke=\"black\"/>\n",
        "<text font-family=\"Times,serif\" font-size=\"14.00\" text-anchor=\"middle\" x=\"137.426\" y=\"-29.8\">SavedBowtie2Index</text>\n",
        "<polyline fill=\"none\" points=\"72.66,-23 202.191,-23 \" stroke=\"black\"/>\n",
        "<text font-family=\"Times,serif\" font-size=\"14.00\" text-anchor=\"middle\" x=\"137.426\" y=\"-7.3\">[indexfilepattern]</text>\n",
        "</g>\n",
        "<!-- railroadtracks.model.aligners.Bowtie2Build&#45;&gt;SavedBowtie2Index_indexfilepattern -->\n",
        "<g class=\"edge\" id=\"edge2\"><title>railroadtracks.model.aligners.Bowtie2Build-&gt;SavedBowtie2Index_indexfilepattern</title>\n",
        "<path d=\"M137.66,-80.721C137.66,-72.997 137.66,-63.647 137.66,-54.763\" fill=\"none\" stroke=\"black\"/>\n",
        "<polygon fill=\"black\" points=\"141.16,-54.674 137.66,-44.674 134.16,-54.674 141.16,-54.674\" stroke=\"black\"/>\n",
        "</g>\n",
        "</g>\n",
        "</svg>"
       ],
       "text": [
        "<IPython.core.display.SVG at 0x10a7f55d0>"
       ]
      }
     ],
     "prompt_number": 29
    },
    {
     "cell_type": "markdown",
     "metadata": {},
     "source": [
      "Let's go back to the task we created earlier (build a `bowtie2` index)."
     ]
    },
    {
     "cell_type": "markdown",
     "metadata": {},
     "source": [
      "Note that the database ID is still the same, and is no longer new. The function `run` can be called to execute the task."
     ]
    },
    {
     "cell_type": "markdown",
     "metadata": {},
     "source": [
      "Indexing our reference with bowtie2 is trivial."
     ]
    },
    {
     "cell_type": "code",
     "collapsed": false,
     "input": [
      "task.execute()\n",
      "task.status = easy._TASK_DONE\n",
      "display(task)"
     ],
     "language": "python",
     "metadata": {},
     "outputs": [
      {
       "html": [
        "<table>\n",
        "<thead>\n",
        "</thead>\n",
        "<tbody>\n",
        "<tr><td>ID</td><td>DbID(id=1, new=False)</td></tr>\n",
        "<tr><td>Info</td><td>(1, u'Done', 1412693077.433343)</td></tr>\n",
        "<tr><td>Step</td><td>Bowtie2Build</td></tr>\n",
        "<tr><td>Source</td><td colspan=\"2\">\n",
        "\n",
        "<table class=\"rsrsproject\">\n",
        "<thead>\n",
        "  <tr>\n",
        "  <th>Name</th>\n",
        "  <th>Class</th>\n",
        "  <th></th>\n",
        "  </tr>\n",
        "</thead>\n",
        "<tbody>\n",
        "  \n",
        "  <tr>\n",
        "    <td>reference</td>\n",
        "    <td>&lt;class &#39;railroadtracks.model.files.SavedFASTA&#39;&gt;</td>\n",
        "    <td class=\"\">(\"defined\")</td>\n",
        "  </tr>\n",
        "  \n",
        "</tbody>\n",
        "</table>\n",
        "\n",
        "</td>\n",
        "</tr>\n",
        "<tr><td>Target</td>\n",
        "<td colspan=\"2\">\n",
        "\n",
        "<table class=\"rsrsproject\">\n",
        "<thead>\n",
        "  <tr>\n",
        "  <th>Name</th>\n",
        "  <th>Class</th>\n",
        "  <th></th>\n",
        "  </tr>\n",
        "</thead>\n",
        "<tbody>\n",
        "  \n",
        "  <tr>\n",
        "    <td>indexfilepattern</td>\n",
        "    <td>&lt;class &#39;railroadtracks.model.aligners.SavedBowtie2Index&#39;&gt;</td>\n",
        "    <td class=\"\">(\"defined\")</td>\n",
        "  </tr>\n",
        "  \n",
        "</tbody>\n",
        "</table>\n",
        "\n",
        "</td>\n",
        "</tr>\n",
        "<tr><td>Parameters</td><td>()</td></tr>\n",
        "</tbody>\n",
        "</table>"
       ],
       "metadata": {},
       "output_type": "display_data",
       "text": [
        "<railroadtracks.easy.Task at 0x10a80d990>"
       ]
      }
     ],
     "prompt_number": 30
    },
    {
     "cell_type": "markdown",
     "metadata": {},
     "source": [
      "When checking the project, we can see that there is one task (the indexing) and that is already complete (we just ran it)."
     ]
    },
    {
     "cell_type": "code",
     "collapsed": false,
     "input": [
      "display(project)"
     ],
     "language": "python",
     "metadata": {},
     "outputs": [
      {
       "html": [
        "<style>\n",
        "\n",
        "table.rsrsproject {\n",
        "  width: 100%;\n",
        "  max-width: 40em;\n",
        "  border-collapse:separate;\n",
        "  border:solid black 2px;\n",
        "  -moz-border-radius:6px;\n",
        "  -webkit-border-radius:6px;\n",
        "  border-radius:6px;\n",
        "}\n",
        "table.rsrsproject thead {\n",
        "  background-color:rgb(235,235,235);\n",
        "}\n",
        "table.rsrsproject th:first-child {\n",
        "  -moz-border-radius:6px 0 0 0;\n",
        "  -webkit-border-radius:6px 0 0 0;\n",
        "  border-radius:6px 0 0 0;\n",
        "}\n",
        "table.rsrsproject th:last-child {\n",
        "  -moz-border-radius: 0 6px 0 0;\n",
        "  -webkit-border-radius: 0 6px 0 0;\n",
        "  border-radius: 0 6px 0 0;\n",
        "}\n",
        "table.rsrsproject th:only-child {\n",
        "  -moz-border-radius: 6px 6px 0 0;\n",
        "  -webkit-border-radius: 6px 6px 0 0;\n",
        "  border-radius: 6px 6px 0 0;\n",
        "}\n",
        "table.rsrsproject .inverse {\n",
        "  background-color: rgb(50,50,50);\n",
        "  color: rgb(230,230,230);\n",
        "}\n",
        "\n",
        "progress.rsrsproject {\n",
        "  -webkit-appearance:none;\n",
        "  -moz-appearance:none;\n",
        "  appearance:none;\n",
        "}\n",
        "progress[value].rsrsproject::-webkit-progress-bar {\n",
        "  background-color: rgb(230,230,230);\n",
        "  box-shadow: 0 2px 5px rgba(0,0,0,0.25) inset;\n",
        "}\n",
        "progress[value].rsrsproject::-webkit-progress-value {\n",
        "  background-color: rgb(150,150,250);\n",
        "}\n",
        "progress[value].rsrsproject {\n",
        "  border: none;\n",
        "  box-shadow: 0 2px 5px rgba(0,0,0,0.25) inset;\n",
        "}\n",
        "progress[value].rsrsproject::-moz-progress-bar {\n",
        "  background-color: rgb(150,150,250);\n",
        "}\n",
        "\n",
        "</style>\n",
        "<table class=\"rsrsproject\">\n",
        "<thead>\n",
        "  <tr>\n",
        "    <th colspan=\"2\">\n",
        "      New \"railroadtracks\" project\n",
        "    </th>\n",
        "  </tr>\n",
        "  <tr>\n",
        "    <th colspan=\"2\">Working directory</th>\n",
        "  </tr>\n",
        "</thead>\n",
        "<tbody>\n",
        "  <tr>\n",
        "    <td colspan=\"2\">/tmp/dummy_project</td>\n",
        "  </tr>\n",
        "  <tr>\n",
        "    <td>Disk space</td>\n",
        "    <td><progress class=\"rsrsproject\" max=\"464\" value=\"123\"></progress>&nbsp;123.00GB (total: 464.00GB)</td>\n",
        "  </tr>\n",
        "</tbody>\n",
        "<thead>\n",
        "  <tr>\n",
        "    <td colspan=\"2\">Tasks</td>\n",
        "  </tr>\n",
        "</thead>\n",
        "<tbody>\n",
        "  \n",
        "  <tr>\n",
        "    <td>Done</td>\n",
        "    <td><progress class=\"rsrsproject\" max=\"1\" value=\"1\"></progress>&nbsp;1/1</td>\n",
        "  </tr>\n",
        "  \n",
        "</tbody>\n",
        "</table>\n",
        "<table  class=\"rsrsproject\">\n",
        "<thead>\n",
        "  <tr>\n",
        "  <th>Activity</th>\n",
        "  <th>Progress</th>\n",
        "  </tr>\n",
        "</thead>\n",
        "<tbody>\n",
        "  \n",
        "  <tr>\n",
        "    <td>Index</td>\n",
        "    <td><progress class=\"rsrsproject\" max=\"1\" value=\"1\"></progress>&nbsp;1/1</td>\n",
        "  </tr>\n",
        "  \n",
        "</tbody>\n",
        "</table>\n",
        "<table class=\"rsrsproject\">\n",
        "<thead>\n",
        "  <tr>\n",
        "  <th>Result Type</th>\n",
        "  <th>Progress</th>\n",
        "  </tr>\n",
        "</thead>\n",
        "<tbody>\n",
        "  \n",
        "  <tr>\n",
        "    <td>SavedBowtie2Index</td>\n",
        "    <td><progress class=\"rsrsproject\" max=\"1\" value=\"1\"></progress>&nbsp;1/1</td>\n",
        "  </tr>\n",
        "  \n",
        "</tbody>\n",
        "</table>"
       ],
       "metadata": {},
       "output_type": "display_data",
       "text": [
        "\n",
        "New project\n",
        "Working directory: /tmp/dummy_project\n",
        "Database file: /tmp/dummy_project/railroadtracks.db\n",
        "Number of recorded steps: 1"
       ]
      }
     ],
     "prompt_number": 31
    },
    {
     "cell_type": "markdown",
     "metadata": {},
     "source": [
      "Wouldn't it be nice to have a visual way to see the step that is complete ?"
     ]
    },
    {
     "cell_type": "code",
     "collapsed": false,
     "input": [
      "SVG(rsip.svg_destinationgraph_storedentity(project, [seid, ]))"
     ],
     "language": "python",
     "metadata": {},
     "outputs": [
      {
       "metadata": {},
       "output_type": "pyout",
       "prompt_number": 32,
       "svg": [
        "<svg height=\"207pt\" viewBox=\"0.00 0.00 276.32 207.00\" width=\"276pt\" xmlns=\"http://www.w3.org/2000/svg\" xmlns:xlink=\"http://www.w3.org/1999/xlink\">\n",
        "<g class=\"graph\" id=\"graph0\" transform=\"scale(1 1) rotate(0) translate(4 202.5)\">\n",
        "<title>%3</title>\n",
        "<polygon fill=\"white\" points=\"-4,4.5 -4,-202.5 272.324,-202.5 272.324,4.5 -4,4.5\" stroke=\"none\"/>\n",
        "<!-- SavedFASTA_None -->\n",
        "<g class=\"node\" id=\"node1\"><title>SavedFASTA_None</title>\n",
        "<polygon fill=\"none\" points=\"91.4539,-153 91.4539,-198 183.866,-198 183.866,-153 91.4539,-153\" stroke=\"black\"/>\n",
        "<text font-family=\"Times,serif\" font-size=\"14.00\" text-anchor=\"middle\" x=\"137.66\" y=\"-182.8\">SavedFASTA</text>\n",
        "<polyline fill=\"none\" points=\"91.4539,-176 183.866,-176 \" stroke=\"black\"/>\n",
        "<text font-family=\"Times,serif\" font-size=\"14.00\" text-anchor=\"middle\" x=\"137.66\" y=\"-160.3\">[None]</text>\n",
        "</g>\n",
        "<!-- railroadtracks.model.aligners.Bowtie2Build -->\n",
        "<g class=\"node\" id=\"node2\"><title>railroadtracks.model.aligners.Bowtie2Build</title>\n",
        "<polygon fill=\"lightgrey\" points=\"268.488,-117 6.83167,-117 6.83167,-81 268.488,-81 268.488,-117\" stroke=\"black\"/>\n",
        "<text font-family=\"Times,serif\" font-size=\"14.00\" text-anchor=\"middle\" x=\"137.66\" y=\"-94.8\">railroadtracks.model.aligners.Bowtie2Build</text>\n",
        "<text font-family=\"Times,serif\" font-size=\"14.00\" text-anchor=\"middle\" x=\"3.5\" y=\"-119.8\">3</text>\n",
        "</g>\n",
        "<!-- SavedFASTA_None&#45;&gt;railroadtracks.model.aligners.Bowtie2Build -->\n",
        "<g class=\"edge\" id=\"edge1\"><title>SavedFASTA_None-&gt;railroadtracks.model.aligners.Bowtie2Build</title>\n",
        "<path d=\"M137.66,-153.35C137.66,-145.37 137.66,-136.16 137.66,-127.66\" fill=\"none\" stroke=\"black\"/>\n",
        "<polygon fill=\"black\" points=\"141.16,-127.43 137.66,-117.43 134.16,-127.43 141.16,-127.43\" stroke=\"black\"/>\n",
        "</g>\n",
        "<!-- SavedBowtie2Index_indexfilepattern -->\n",
        "<g class=\"node\" id=\"node3\"><title>SavedBowtie2Index_indexfilepattern</title>\n",
        "<polygon fill=\"none\" points=\"72.66,-0 72.66,-45 202.66,-45 202.66,-0 72.66,-0\" stroke=\"black\"/>\n",
        "<text font-family=\"Times,serif\" font-size=\"14.00\" text-anchor=\"middle\" x=\"137.426\" y=\"-29.8\">SavedBowtie2Index</text>\n",
        "<polyline fill=\"none\" points=\"72.66,-23 202.191,-23 \" stroke=\"black\"/>\n",
        "<text font-family=\"Times,serif\" font-size=\"14.00\" text-anchor=\"middle\" x=\"137.426\" y=\"-7.3\">[indexfilepattern]</text>\n",
        "</g>\n",
        "<!-- railroadtracks.model.aligners.Bowtie2Build&#45;&gt;SavedBowtie2Index_indexfilepattern -->\n",
        "<g class=\"edge\" id=\"edge2\"><title>railroadtracks.model.aligners.Bowtie2Build-&gt;SavedBowtie2Index_indexfilepattern</title>\n",
        "<path d=\"M137.66,-80.721C137.66,-72.997 137.66,-63.647 137.66,-54.763\" fill=\"none\" stroke=\"black\"/>\n",
        "<polygon fill=\"black\" points=\"141.16,-54.674 137.66,-44.674 134.16,-54.674 141.16,-54.674\" stroke=\"black\"/>\n",
        "</g>\n",
        "</g>\n",
        "</svg>"
       ],
       "text": [
        "<IPython.core.display.SVG at 0x10a8af2d0>"
       ]
      }
     ],
     "prompt_number": 32
    },
    {
     "cell_type": "markdown",
     "metadata": {},
     "source": [
      "Creating the task again is possible. As we saw before the ID is truly unique, and now we see that the status for the task changed from \"To do\" to \"Done\".\n",
      "\n",
      "When building incrementally recipes, we just have to run tasks that are not yet done."
     ]
    },
    {
     "cell_type": "markdown",
     "metadata": {},
     "source": [
      "The convenience function `add_task()` is returning\n",
      "an object `Task` that has several attributes and methods (when in ipython, write `task.` and press `tab`\n",
      "for a list).\n",
      "\n",
      "It is possible to execute a task, method `.execute()` as we saw it before, or obtain a command line using\n",
      "our universal execution layer. The command is returned as parsed by a shell, so build a command line from it)."
     ]
    },
    {
     "cell_type": "code",
     "collapsed": false,
     "input": [
      "cmd = task.unifex_cmd()\n",
      "import subprocess\n",
      "cmd_str = subprocess.list2cmdline(cmd)\n",
      "print(cmd_str)"
     ],
     "language": "python",
     "metadata": {},
     "outputs": [
      {
       "output_type": "stream",
       "stream": "stdout",
       "text": [
        "/Users/thisuser/Projects/py27_env/bin/python2.7 -m railroadtracks.unifex run bowtie2-build bowtie2-build --module railroadtracks.model.aligners -s reference=/Users/thisuser/Projects/py27_env/lib/python2.7/site-packages/railroadtracks-0.3.0_dev-py2.7.egg/railroadtracks/EF204940.FASTA -t indexfilepattern=/tmp/dummy_project/step_1/761399a8-4e30-11e4-8cee-b8e8562d6a92\n"
       ]
      }
     ],
     "prompt_number": 33
    },
    {
     "cell_type": "markdown",
     "metadata": {},
     "source": [
      "That command will just run in a shell, which make the construction of BASH scripts trivial (and such scripts be called by SGE's `qsub`).\n",
      "We demonstrate it by running again the step as a command line in the shell:"
     ]
    },
    {
     "cell_type": "code",
     "collapsed": false,
     "input": [
      "! $cmd_str"
     ],
     "language": "python",
     "metadata": {},
     "outputs": [],
     "prompt_number": 34
    },
    {
     "cell_type": "markdown",
     "metadata": {},
     "source": [
      "The command lines is also able to log what is happening. For example:"
     ]
    },
    {
     "cell_type": "code",
     "collapsed": false,
     "input": [
      "! $cmd_str --logging-file=/dev/stdout --logging-level=DEBUG"
     ],
     "language": "python",
     "metadata": {},
     "outputs": [
      {
       "output_type": "stream",
       "stream": "stdout",
       "text": [
        "DEBUG:__main__:Source parameters:\r\n",
        "reference: ['/Users/thisuser/Projects/py27_env/lib/python2.7/site-packages/railroadtracks-0.3.0_dev-py2.7.egg/railroadtracks/EF204940.FASTA']\r\n",
        "\r\n",
        "DEBUG:root:['bowtie2-build', '-f', '/Users/thisuser/Projects/py27_env/lib/python2.7/site-packages/railroadtracks-0.3.0_dev-py2.7.egg/railroadtracks/EF204940.FASTA', '/tmp/dummy_project/step_1/761399a8-4e30-11e4-8cee-b8e8562d6a92']\r\n"
       ]
      },
      {
       "output_type": "stream",
       "stream": "stdout",
       "text": [
        "DEBUG:__main__:return code: 0\r\n"
       ]
      }
     ],
     "prompt_number": 35
    },
    {
     "cell_type": "markdown",
     "metadata": {},
     "source": [
      "The `cmd` can also be directly used by the Python module handling subprocesses: "
     ]
    },
    {
     "cell_type": "code",
     "collapsed": false,
     "input": [
      "import subprocess\n",
      "returncode = subprocess.check_call(cmd)"
     ],
     "language": "python",
     "metadata": {},
     "outputs": [],
     "prompt_number": 36
    },
    {
     "cell_type": "code",
     "collapsed": false,
     "input": [
      "import logging, tempfile\n",
      "from railroadtracks.environment import logging\n",
      "logging.basicConfig(filename='/tmp/foo', level=logging.DEBUG)\n",
      "logging.info('foo')\n",
      "task.execute()\n",
      "task.status = easy._TASK_DONE"
     ],
     "language": "python",
     "metadata": {},
     "outputs": [],
     "prompt_number": 37
    },
    {
     "cell_type": "markdown",
     "metadata": {},
     "source": [
      "As we just showed it, executing a task can occur at any time after a task is added to a project, and the execution can be made through Python or through BASH command line. These capabilities can be used to implement relatively easily execution schemes for\n",
      "collections of tasks, and use any scheduling infrastructure accessible through shell command line.\n",
      "\n",
      "There is actually more to it, and tasks can be recreated from just their ID in the persitance layer\n",
      "(that is even if the recipe is lost,\n",
      "the dependency graph stored on disk contains enough information to recreate the task object)."
     ]
    },
    {
     "cell_type": "code",
     "collapsed": false,
     "input": [
      "taskid = task.task_id\n",
      "task_recover = project.get_task(taskid)\n",
      "display(task_recover)"
     ],
     "language": "python",
     "metadata": {},
     "outputs": [
      {
       "html": [
        "<table>\n",
        "<thead>\n",
        "</thead>\n",
        "<tbody>\n",
        "<tr><td>ID</td><td>DbID(id=1)</td></tr>\n",
        "<tr><td>Info</td><td>(1, u'Done', 1412693077.433343)</td></tr>\n",
        "<tr><td>Step</td><td>Bowtie2Build</td></tr>\n",
        "<tr><td>Source</td><td colspan=\"2\">\n",
        "\n",
        "<table class=\"rsrsproject\">\n",
        "<thead>\n",
        "  <tr>\n",
        "  <th>Name</th>\n",
        "  <th>Class</th>\n",
        "  <th></th>\n",
        "  </tr>\n",
        "</thead>\n",
        "<tbody>\n",
        "  \n",
        "  <tr>\n",
        "    <td>reference</td>\n",
        "    <td>&lt;class &#39;railroadtracks.model.files.SavedFASTA&#39;&gt;</td>\n",
        "    <td class=\"\">(\"defined\")</td>\n",
        "  </tr>\n",
        "  \n",
        "</tbody>\n",
        "</table>\n",
        "\n",
        "</td>\n",
        "</tr>\n",
        "<tr><td>Target</td>\n",
        "<td colspan=\"2\">\n",
        "\n",
        "<table class=\"rsrsproject\">\n",
        "<thead>\n",
        "  <tr>\n",
        "  <th>Name</th>\n",
        "  <th>Class</th>\n",
        "  <th></th>\n",
        "  </tr>\n",
        "</thead>\n",
        "<tbody>\n",
        "  \n",
        "  <tr>\n",
        "    <td>indexfilepattern</td>\n",
        "    <td>&lt;class &#39;railroadtracks.model.aligners.SavedBowtie2Index&#39;&gt;</td>\n",
        "    <td class=\"\">(\"defined\")</td>\n",
        "  </tr>\n",
        "  \n",
        "</tbody>\n",
        "</table>\n",
        "\n",
        "</td>\n",
        "</tr>\n",
        "<tr><td>Parameters</td><td>[]</td></tr>\n",
        "</tbody>\n",
        "</table>"
       ],
       "metadata": {},
       "output_type": "display_data",
       "text": [
        "<railroadtracks.easy.Task at 0x10a8f90d0>"
       ]
      }
     ],
     "prompt_number": 38
    },
    {
     "cell_type": "markdown",
     "metadata": {},
     "source": [
      "Now that we have the index, we can align reads.\n",
      "\n",
      "Oh ! We need reads ! So we simulate random paired-ends reads. We'll have three of these."
     ]
    },
    {
     "cell_type": "code",
     "collapsed": false,
     "input": [
      "import railroadtracks.simulate\n",
      "with open(reference_fn) as fasta_fh:\n",
      "    reference = next(railroadtracks.simulate.readfasta_iter(fasta_fh))\n",
      "from collections import namedtuple\n",
      "ReadPair = namedtuple('ReadPair', 'read1 read2')\n",
      "pairnames = tuple(ReadPair('./A_%i_1.fq'%p_i, './A_%i_2.fq'%p_i) for p_i in (1,2,3))\n",
      "for read1_fn, read2_fn in pairnames:\n",
      "    print(\"pair: '%s' and '%s'\" % (read1_fn, read2_fn))\n",
      "    with open(read1_fn, 'w') as read1_fh, \\\n",
      "         open(read2_fn, 'w') as read2_fh:\n",
      "        railroadtracks.simulate.randomPEreads(read1_fh, read2_fh, reference)"
     ],
     "language": "python",
     "metadata": {},
     "outputs": [
      {
       "output_type": "stream",
       "stream": "stdout",
       "text": [
        "pair: './A_1_1.fq' and './A_1_2.fq'\n",
        "pair: './A_2_1.fq' and './A_2_2.fq'\n",
        "pair: './A_3_1.fq' and './A_3_2.fq'\n"
       ]
      }
     ],
     "prompt_number": 39
    },
    {
     "cell_type": "code",
     "collapsed": false,
     "input": [],
     "language": "python",
     "metadata": {},
     "outputs": [],
     "prompt_number": 39
    },
    {
     "cell_type": "markdown",
     "metadata": {},
     "source": [
      "Now we can align the freshly made reads."
     ]
    },
    {
     "cell_type": "code",
     "collapsed": false,
     "input": [
      "# since the tasks are unique, and there is relatively little overhead fetch/creating them\n",
      "# we just get the index-with-Bowtie task from scratch here.\n",
      "assets_again = bowtie2build.Assets(bowtie2build.Assets.Source(rnaseq.SavedFASTA(reference_fn)),\n",
      "                                  bowtie2build.Assets.Target.createundefined())\n",
      "index_task = project.add_task(bowtie2build, assets_again)\n",
      "\n",
      "bowtie2 = env.activities.ALIGN.bowtie2\n",
      "Assets = bowtie2.Assets\n",
      "# Class to model FASTQ files that are optionally compressed\n",
      "FASTQ = rnaseq.FASTQPossiblyGzipCompressed\n",
      "task = project.add_task(bowtie2,\n",
      "                        Assets(Assets.Source(index_task.call.assets.target.indexfilepattern,\n",
      "                                             FASTQ(pairnames[0].read1),\n",
      "                                             FASTQ(pairnames[0].read2)),\n",
      "                               Assets.Target.createundefined()))"
     ],
     "language": "python",
     "metadata": {},
     "outputs": [],
     "prompt_number": 40
    },
    {
     "cell_type": "markdown",
     "metadata": {},
     "source": [
      "The assets are defined, as the convenience function is adding the task to be project."
     ]
    },
    {
     "cell_type": "code",
     "collapsed": false,
     "input": [
      "display(task.call.assets.target)"
     ],
     "language": "python",
     "metadata": {},
     "outputs": [
      {
       "html": [
        "<table class=\"rsrsproject\">\n",
        "<thead>\n",
        "  <tr>\n",
        "  <th>Name</th>\n",
        "  <th>Class</th>\n",
        "  <th></th>\n",
        "  </tr>\n",
        "</thead>\n",
        "<tbody>\n",
        "  \n",
        "  <tr>\n",
        "    <td>alignment</td>\n",
        "    <td>&lt;class &#39;railroadtracks.model.files.BAMFile&#39;&gt;</td>\n",
        "    <td class=\"\">(\"defined\")</td>\n",
        "  </tr>\n",
        "  \n",
        "</tbody>\n",
        "</table>"
       ],
       "metadata": {},
       "output_type": "display_data",
       "text": [
        "<railroadtracks.core.Target at 0x10a925490>"
       ]
      }
     ],
     "prompt_number": 41
    },
    {
     "cell_type": "markdown",
     "metadata": {},
     "source": [
      "The task indeed added to the project. There is now one alignment activity listed."
     ]
    },
    {
     "cell_type": "code",
     "collapsed": false,
     "input": [
      "display(project)"
     ],
     "language": "python",
     "metadata": {},
     "outputs": [
      {
       "html": [
        "<style>\n",
        "\n",
        "table.rsrsproject {\n",
        "  width: 100%;\n",
        "  max-width: 40em;\n",
        "  border-collapse:separate;\n",
        "  border:solid black 2px;\n",
        "  -moz-border-radius:6px;\n",
        "  -webkit-border-radius:6px;\n",
        "  border-radius:6px;\n",
        "}\n",
        "table.rsrsproject thead {\n",
        "  background-color:rgb(235,235,235);\n",
        "}\n",
        "table.rsrsproject th:first-child {\n",
        "  -moz-border-radius:6px 0 0 0;\n",
        "  -webkit-border-radius:6px 0 0 0;\n",
        "  border-radius:6px 0 0 0;\n",
        "}\n",
        "table.rsrsproject th:last-child {\n",
        "  -moz-border-radius: 0 6px 0 0;\n",
        "  -webkit-border-radius: 0 6px 0 0;\n",
        "  border-radius: 0 6px 0 0;\n",
        "}\n",
        "table.rsrsproject th:only-child {\n",
        "  -moz-border-radius: 6px 6px 0 0;\n",
        "  -webkit-border-radius: 6px 6px 0 0;\n",
        "  border-radius: 6px 6px 0 0;\n",
        "}\n",
        "table.rsrsproject .inverse {\n",
        "  background-color: rgb(50,50,50);\n",
        "  color: rgb(230,230,230);\n",
        "}\n",
        "\n",
        "progress.rsrsproject {\n",
        "  -webkit-appearance:none;\n",
        "  -moz-appearance:none;\n",
        "  appearance:none;\n",
        "}\n",
        "progress[value].rsrsproject::-webkit-progress-bar {\n",
        "  background-color: rgb(230,230,230);\n",
        "  box-shadow: 0 2px 5px rgba(0,0,0,0.25) inset;\n",
        "}\n",
        "progress[value].rsrsproject::-webkit-progress-value {\n",
        "  background-color: rgb(150,150,250);\n",
        "}\n",
        "progress[value].rsrsproject {\n",
        "  border: none;\n",
        "  box-shadow: 0 2px 5px rgba(0,0,0,0.25) inset;\n",
        "}\n",
        "progress[value].rsrsproject::-moz-progress-bar {\n",
        "  background-color: rgb(150,150,250);\n",
        "}\n",
        "\n",
        "</style>\n",
        "<table class=\"rsrsproject\">\n",
        "<thead>\n",
        "  <tr>\n",
        "    <th colspan=\"2\">\n",
        "      New \"railroadtracks\" project\n",
        "    </th>\n",
        "  </tr>\n",
        "  <tr>\n",
        "    <th colspan=\"2\">Working directory</th>\n",
        "  </tr>\n",
        "</thead>\n",
        "<tbody>\n",
        "  <tr>\n",
        "    <td colspan=\"2\">/tmp/dummy_project</td>\n",
        "  </tr>\n",
        "  <tr>\n",
        "    <td>Disk space</td>\n",
        "    <td><progress class=\"rsrsproject\" max=\"464\" value=\"123\"></progress>&nbsp;123.00GB (total: 464.00GB)</td>\n",
        "  </tr>\n",
        "</tbody>\n",
        "<thead>\n",
        "  <tr>\n",
        "    <td colspan=\"2\">Tasks</td>\n",
        "  </tr>\n",
        "</thead>\n",
        "<tbody>\n",
        "  \n",
        "  <tr>\n",
        "    <td>Done</td>\n",
        "    <td><progress class=\"rsrsproject\" max=\"2\" value=\"1\"></progress>&nbsp;1/2</td>\n",
        "  </tr>\n",
        "  \n",
        "  <tr>\n",
        "    <td>To do</td>\n",
        "    <td><progress class=\"rsrsproject\" max=\"2\" value=\"1\"></progress>&nbsp;1/2</td>\n",
        "  </tr>\n",
        "  \n",
        "</tbody>\n",
        "</table>\n",
        "<table  class=\"rsrsproject\">\n",
        "<thead>\n",
        "  <tr>\n",
        "  <th>Activity</th>\n",
        "  <th>Progress</th>\n",
        "  </tr>\n",
        "</thead>\n",
        "<tbody>\n",
        "  \n",
        "  <tr>\n",
        "    <td>Index</td>\n",
        "    <td><progress class=\"rsrsproject\" max=\"1\" value=\"1\"></progress>&nbsp;1/1</td>\n",
        "  </tr>\n",
        "  \n",
        "  <tr>\n",
        "    <td>Align</td>\n",
        "    <td><progress class=\"rsrsproject\" max=\"1\" value=\"0\"></progress>&nbsp;0/1</td>\n",
        "  </tr>\n",
        "  \n",
        "</tbody>\n",
        "</table>\n",
        "<table class=\"rsrsproject\">\n",
        "<thead>\n",
        "  <tr>\n",
        "  <th>Result Type</th>\n",
        "  <th>Progress</th>\n",
        "  </tr>\n",
        "</thead>\n",
        "<tbody>\n",
        "  \n",
        "  <tr>\n",
        "    <td>BAMFile</td>\n",
        "    <td><progress class=\"rsrsproject\" max=\"1\" value=\"0\"></progress>&nbsp;0/1</td>\n",
        "  </tr>\n",
        "  \n",
        "</tbody>\n",
        "</table>"
       ],
       "metadata": {},
       "output_type": "display_data",
       "text": [
        "\n",
        "New project\n",
        "Working directory: /tmp/dummy_project\n",
        "Database file: /tmp/dummy_project/railroadtracks.db\n",
        "Number of recorded steps: 2"
       ]
      }
     ],
     "prompt_number": 42
    },
    {
     "cell_type": "code",
     "collapsed": false,
     "input": [
      "task.execute()\n",
      "task.status = easy._TASK_DONE\n",
      "display(task)"
     ],
     "language": "python",
     "metadata": {},
     "outputs": [
      {
       "html": [
        "<table>\n",
        "<thead>\n",
        "</thead>\n",
        "<tbody>\n",
        "<tr><td>ID</td><td>DbID(id=2, new=True)</td></tr>\n",
        "<tr><td>Info</td><td>(2, u'Done', 1412693087.569002)</td></tr>\n",
        "<tr><td>Step</td><td>Bowtie2</td></tr>\n",
        "<tr><td>Source</td><td colspan=\"2\">\n",
        "\n",
        "<table class=\"rsrsproject\">\n",
        "<thead>\n",
        "  <tr>\n",
        "  <th>Name</th>\n",
        "  <th>Class</th>\n",
        "  <th></th>\n",
        "  </tr>\n",
        "</thead>\n",
        "<tbody>\n",
        "  \n",
        "  <tr>\n",
        "    <td>indexfilepattern</td>\n",
        "    <td>&lt;class &#39;railroadtracks.model.aligners.SavedBowtie2Index&#39;&gt;</td>\n",
        "    <td class=\"\">(\"defined\")</td>\n",
        "  </tr>\n",
        "  \n",
        "  <tr>\n",
        "    <td>read1</td>\n",
        "    <td>&lt;class &#39;railroadtracks.model.files.FASTQPossiblyGzipCompressed&#39;&gt;</td>\n",
        "    <td class=\"\">(\"defined\")</td>\n",
        "  </tr>\n",
        "  \n",
        "  <tr>\n",
        "    <td>read2</td>\n",
        "    <td>&lt;class &#39;railroadtracks.model.files.FASTQPossiblyGzipCompressed&#39;&gt;</td>\n",
        "    <td class=\"\">(\"defined\")</td>\n",
        "  </tr>\n",
        "  \n",
        "</tbody>\n",
        "</table>\n",
        "\n",
        "</td>\n",
        "</tr>\n",
        "<tr><td>Target</td>\n",
        "<td colspan=\"2\">\n",
        "\n",
        "<table class=\"rsrsproject\">\n",
        "<thead>\n",
        "  <tr>\n",
        "  <th>Name</th>\n",
        "  <th>Class</th>\n",
        "  <th></th>\n",
        "  </tr>\n",
        "</thead>\n",
        "<tbody>\n",
        "  \n",
        "  <tr>\n",
        "    <td>alignment</td>\n",
        "    <td>&lt;class &#39;railroadtracks.model.files.BAMFile&#39;&gt;</td>\n",
        "    <td class=\"\">(\"defined\")</td>\n",
        "  </tr>\n",
        "  \n",
        "</tbody>\n",
        "</table>\n",
        "\n",
        "</td>\n",
        "</tr>\n",
        "<tr><td>Parameters</td><td>()</td></tr>\n",
        "</tbody>\n",
        "</table>"
       ],
       "metadata": {},
       "output_type": "display_data",
       "text": [
        "<railroadtracks.easy.Task at 0x10a925690>"
       ]
      }
     ],
     "prompt_number": 43
    },
    {
     "cell_type": "markdown",
     "metadata": {},
     "source": [
      "Executing the task (successfully) will turn it into a completed task. We manually set it as complete here,\n",
      "but a full blow execution engine would do it for the user.\n",
      "\n",
      "<div class=\"mybox\">\n",
      "   <h3>Note</h3>\n",
      "   <p> The result `SavedBowtieIndex` is no longer present, as it is replaced by `BAMFile`.\n",
      "   </p>\n",
      "   <p> The HTML display is looking for terminal nodes in the dependency graph, and only these are considered final results.\n",
      "   </p>\n",
      "</div>"
     ]
    },
    {
     "cell_type": "code",
     "collapsed": false,
     "input": [
      "display(project)"
     ],
     "language": "python",
     "metadata": {},
     "outputs": [
      {
       "html": [
        "<style>\n",
        "\n",
        "table.rsrsproject {\n",
        "  width: 100%;\n",
        "  max-width: 40em;\n",
        "  border-collapse:separate;\n",
        "  border:solid black 2px;\n",
        "  -moz-border-radius:6px;\n",
        "  -webkit-border-radius:6px;\n",
        "  border-radius:6px;\n",
        "}\n",
        "table.rsrsproject thead {\n",
        "  background-color:rgb(235,235,235);\n",
        "}\n",
        "table.rsrsproject th:first-child {\n",
        "  -moz-border-radius:6px 0 0 0;\n",
        "  -webkit-border-radius:6px 0 0 0;\n",
        "  border-radius:6px 0 0 0;\n",
        "}\n",
        "table.rsrsproject th:last-child {\n",
        "  -moz-border-radius: 0 6px 0 0;\n",
        "  -webkit-border-radius: 0 6px 0 0;\n",
        "  border-radius: 0 6px 0 0;\n",
        "}\n",
        "table.rsrsproject th:only-child {\n",
        "  -moz-border-radius: 6px 6px 0 0;\n",
        "  -webkit-border-radius: 6px 6px 0 0;\n",
        "  border-radius: 6px 6px 0 0;\n",
        "}\n",
        "table.rsrsproject .inverse {\n",
        "  background-color: rgb(50,50,50);\n",
        "  color: rgb(230,230,230);\n",
        "}\n",
        "\n",
        "progress.rsrsproject {\n",
        "  -webkit-appearance:none;\n",
        "  -moz-appearance:none;\n",
        "  appearance:none;\n",
        "}\n",
        "progress[value].rsrsproject::-webkit-progress-bar {\n",
        "  background-color: rgb(230,230,230);\n",
        "  box-shadow: 0 2px 5px rgba(0,0,0,0.25) inset;\n",
        "}\n",
        "progress[value].rsrsproject::-webkit-progress-value {\n",
        "  background-color: rgb(150,150,250);\n",
        "}\n",
        "progress[value].rsrsproject {\n",
        "  border: none;\n",
        "  box-shadow: 0 2px 5px rgba(0,0,0,0.25) inset;\n",
        "}\n",
        "progress[value].rsrsproject::-moz-progress-bar {\n",
        "  background-color: rgb(150,150,250);\n",
        "}\n",
        "\n",
        "</style>\n",
        "<table class=\"rsrsproject\">\n",
        "<thead>\n",
        "  <tr>\n",
        "    <th colspan=\"2\">\n",
        "      New \"railroadtracks\" project\n",
        "    </th>\n",
        "  </tr>\n",
        "  <tr>\n",
        "    <th colspan=\"2\">Working directory</th>\n",
        "  </tr>\n",
        "</thead>\n",
        "<tbody>\n",
        "  <tr>\n",
        "    <td colspan=\"2\">/tmp/dummy_project</td>\n",
        "  </tr>\n",
        "  <tr>\n",
        "    <td>Disk space</td>\n",
        "    <td><progress class=\"rsrsproject\" max=\"464\" value=\"123\"></progress>&nbsp;123.00GB (total: 464.00GB)</td>\n",
        "  </tr>\n",
        "</tbody>\n",
        "<thead>\n",
        "  <tr>\n",
        "    <td colspan=\"2\">Tasks</td>\n",
        "  </tr>\n",
        "</thead>\n",
        "<tbody>\n",
        "  \n",
        "  <tr>\n",
        "    <td>Done</td>\n",
        "    <td><progress class=\"rsrsproject\" max=\"2\" value=\"2\"></progress>&nbsp;2/2</td>\n",
        "  </tr>\n",
        "  \n",
        "</tbody>\n",
        "</table>\n",
        "<table  class=\"rsrsproject\">\n",
        "<thead>\n",
        "  <tr>\n",
        "  <th>Activity</th>\n",
        "  <th>Progress</th>\n",
        "  </tr>\n",
        "</thead>\n",
        "<tbody>\n",
        "  \n",
        "  <tr>\n",
        "    <td>Index</td>\n",
        "    <td><progress class=\"rsrsproject\" max=\"1\" value=\"1\"></progress>&nbsp;1/1</td>\n",
        "  </tr>\n",
        "  \n",
        "  <tr>\n",
        "    <td>Align</td>\n",
        "    <td><progress class=\"rsrsproject\" max=\"1\" value=\"1\"></progress>&nbsp;1/1</td>\n",
        "  </tr>\n",
        "  \n",
        "</tbody>\n",
        "</table>\n",
        "<table class=\"rsrsproject\">\n",
        "<thead>\n",
        "  <tr>\n",
        "  <th>Result Type</th>\n",
        "  <th>Progress</th>\n",
        "  </tr>\n",
        "</thead>\n",
        "<tbody>\n",
        "  \n",
        "  <tr>\n",
        "    <td>BAMFile</td>\n",
        "    <td><progress class=\"rsrsproject\" max=\"1\" value=\"1\"></progress>&nbsp;1/1</td>\n",
        "  </tr>\n",
        "  \n",
        "</tbody>\n",
        "</table>"
       ],
       "metadata": {},
       "output_type": "display_data",
       "text": [
        "\n",
        "New project\n",
        "Working directory: /tmp/dummy_project\n",
        "Database file: /tmp/dummy_project/railroadtracks.db\n",
        "Number of recorded steps: 2"
       ]
      }
     ],
     "prompt_number": 44
    },
    {
     "cell_type": "markdown",
     "metadata": {},
     "source": [
      "The graphical display is also showing everything Bowtie is complete.\n",
      "\n",
      "<div class=\"mybox\">\n",
      "   <h3>Note</h3>\n",
      "   <p> The attentive reader will observe that the reads do not appear on the graph below.\n",
      "   </p>\n",
      "   <p> This is because the function is only displaying what is downstream (*destination*) of the FASTA reference.\n",
      "   If starting from the alignment results and the looking for the provenance, the reads would be displayed. \n",
      "   </p>\n",
      "</div>"
     ]
    },
    {
     "cell_type": "code",
     "collapsed": false,
     "input": [
      "SVG(rsip.svg_destinationgraph_storedentity(project, [seid, ]))"
     ],
     "language": "python",
     "metadata": {},
     "outputs": [
      {
       "metadata": {},
       "output_type": "pyout",
       "prompt_number": 45,
       "svg": [
        "<svg height=\"360pt\" viewBox=\"0.00 0.00 276.32 360.00\" width=\"276pt\" xmlns=\"http://www.w3.org/2000/svg\" xmlns:xlink=\"http://www.w3.org/1999/xlink\">\n",
        "<g class=\"graph\" id=\"graph0\" transform=\"scale(1 1) rotate(0) translate(4 355.5)\">\n",
        "<title>%3</title>\n",
        "<polygon fill=\"white\" points=\"-4,4.5 -4,-355.5 272.324,-355.5 272.324,4.5 -4,4.5\" stroke=\"none\"/>\n",
        "<!-- BAMFile_alignment -->\n",
        "<g class=\"node\" id=\"node1\"><title>BAMFile_alignment</title>\n",
        "<polygon fill=\"none\" points=\"97.0047,-0 97.0047,-45 178.315,-45 178.315,-0 97.0047,-0\" stroke=\"black\"/>\n",
        "<text font-family=\"Times,serif\" font-size=\"14.00\" text-anchor=\"middle\" x=\"137.66\" y=\"-29.8\">BAMFile</text>\n",
        "<polyline fill=\"none\" points=\"97.0047,-23 178.315,-23 \" stroke=\"black\"/>\n",
        "<text font-family=\"Times,serif\" font-size=\"14.00\" text-anchor=\"middle\" x=\"137.66\" y=\"-7.3\">[alignment]</text>\n",
        "</g>\n",
        "<!-- SavedFASTA_None -->\n",
        "<g class=\"node\" id=\"node2\"><title>SavedFASTA_None</title>\n",
        "<polygon fill=\"none\" points=\"91.4539,-306 91.4539,-351 183.866,-351 183.866,-306 91.4539,-306\" stroke=\"black\"/>\n",
        "<text font-family=\"Times,serif\" font-size=\"14.00\" text-anchor=\"middle\" x=\"137.66\" y=\"-335.8\">SavedFASTA</text>\n",
        "<polyline fill=\"none\" points=\"91.4539,-329 183.866,-329 \" stroke=\"black\"/>\n",
        "<text font-family=\"Times,serif\" font-size=\"14.00\" text-anchor=\"middle\" x=\"137.66\" y=\"-313.3\">[None]</text>\n",
        "</g>\n",
        "<!-- railroadtracks.model.aligners.Bowtie2Build -->\n",
        "<g class=\"node\" id=\"node3\"><title>railroadtracks.model.aligners.Bowtie2Build</title>\n",
        "<polygon fill=\"lightgrey\" points=\"268.488,-270 6.83167,-270 6.83167,-234 268.488,-234 268.488,-270\" stroke=\"black\"/>\n",
        "<text font-family=\"Times,serif\" font-size=\"14.00\" text-anchor=\"middle\" x=\"137.66\" y=\"-247.8\">railroadtracks.model.aligners.Bowtie2Build</text>\n",
        "<text font-family=\"Times,serif\" font-size=\"14.00\" text-anchor=\"middle\" x=\"3.5\" y=\"-272.8\">3</text>\n",
        "</g>\n",
        "<!-- SavedFASTA_None&#45;&gt;railroadtracks.model.aligners.Bowtie2Build -->\n",
        "<g class=\"edge\" id=\"edge1\"><title>SavedFASTA_None-&gt;railroadtracks.model.aligners.Bowtie2Build</title>\n",
        "<path d=\"M137.66,-306.35C137.66,-298.37 137.66,-289.16 137.66,-280.66\" fill=\"none\" stroke=\"black\"/>\n",
        "<polygon fill=\"black\" points=\"141.16,-280.43 137.66,-270.43 134.16,-280.43 141.16,-280.43\" stroke=\"black\"/>\n",
        "</g>\n",
        "<!-- SavedBowtie2Index_indexfilepattern -->\n",
        "<g class=\"node\" id=\"node4\"><title>SavedBowtie2Index_indexfilepattern</title>\n",
        "<polygon fill=\"none\" points=\"72.66,-153 72.66,-198 202.66,-198 202.66,-153 72.66,-153\" stroke=\"black\"/>\n",
        "<text font-family=\"Times,serif\" font-size=\"14.00\" text-anchor=\"middle\" x=\"137.426\" y=\"-182.8\">SavedBowtie2Index</text>\n",
        "<polyline fill=\"none\" points=\"72.66,-176 202.191,-176 \" stroke=\"black\"/>\n",
        "<text font-family=\"Times,serif\" font-size=\"14.00\" text-anchor=\"middle\" x=\"137.426\" y=\"-160.3\">[indexfilepattern]</text>\n",
        "</g>\n",
        "<!-- railroadtracks.model.aligners.Bowtie2Build&#45;&gt;SavedBowtie2Index_indexfilepattern -->\n",
        "<g class=\"edge\" id=\"edge2\"><title>railroadtracks.model.aligners.Bowtie2Build-&gt;SavedBowtie2Index_indexfilepattern</title>\n",
        "<path d=\"M137.66,-233.72C137.66,-226 137.66,-216.65 137.66,-207.76\" fill=\"none\" stroke=\"black\"/>\n",
        "<polygon fill=\"black\" points=\"141.16,-207.67 137.66,-197.67 134.16,-207.67 141.16,-207.67\" stroke=\"black\"/>\n",
        "</g>\n",
        "<!-- railroadtracks.model.aligners.Bowtie2 -->\n",
        "<g class=\"node\" id=\"node5\"><title>railroadtracks.model.aligners.Bowtie2</title>\n",
        "<polygon fill=\"lightgrey\" points=\"252.871,-117 22.449,-117 22.449,-81 252.871,-81 252.871,-117\" stroke=\"black\"/>\n",
        "<text font-family=\"Times,serif\" font-size=\"14.00\" text-anchor=\"middle\" x=\"137.66\" y=\"-94.8\">railroadtracks.model.aligners.Bowtie2</text>\n",
        "<text font-family=\"Times,serif\" font-size=\"14.00\" text-anchor=\"middle\" x=\"19.059\" y=\"-119.8\">3</text>\n",
        "</g>\n",
        "<!-- SavedBowtie2Index_indexfilepattern&#45;&gt;railroadtracks.model.aligners.Bowtie2 -->\n",
        "<g class=\"edge\" id=\"edge3\"><title>SavedBowtie2Index_indexfilepattern-&gt;railroadtracks.model.aligners.Bowtie2</title>\n",
        "<path d=\"M137.66,-153.35C137.66,-145.37 137.66,-136.16 137.66,-127.66\" fill=\"none\" stroke=\"black\"/>\n",
        "<polygon fill=\"black\" points=\"141.16,-127.43 137.66,-117.43 134.16,-127.43 141.16,-127.43\" stroke=\"black\"/>\n",
        "</g>\n",
        "<!-- railroadtracks.model.aligners.Bowtie2&#45;&gt;BAMFile_alignment -->\n",
        "<g class=\"edge\" id=\"edge4\"><title>railroadtracks.model.aligners.Bowtie2-&gt;BAMFile_alignment</title>\n",
        "<path d=\"M137.66,-80.721C137.66,-72.997 137.66,-63.647 137.66,-54.763\" fill=\"none\" stroke=\"black\"/>\n",
        "<polygon fill=\"black\" points=\"141.16,-54.674 137.66,-44.674 134.16,-54.674 141.16,-54.674\" stroke=\"black\"/>\n",
        "</g>\n",
        "</g>\n",
        "</svg>"
       ],
       "text": [
        "<IPython.core.display.SVG at 0x10a8af510>"
       ]
      }
     ],
     "prompt_number": 45
    },
    {
     "cell_type": "markdown",
     "metadata": {},
     "source": [
      "The provenance graph for the results of alignments (here only one aligment)."
     ]
    },
    {
     "cell_type": "code",
     "collapsed": false,
     "input": [
      "results = project.get_targetsofactivity(rnaseq.ACTIVITY.ALIGN)\n",
      "SVG(rsip.svg_provenancegraph(project, results))"
     ],
     "language": "python",
     "metadata": {},
     "outputs": [
      {
       "metadata": {},
       "output_type": "pyout",
       "prompt_number": 46,
       "svg": [
        "<svg height=\"360pt\" viewBox=\"0.00 0.00 652.26 360.00\" width=\"652pt\" xmlns=\"http://www.w3.org/2000/svg\" xmlns:xlink=\"http://www.w3.org/1999/xlink\">\n",
        "<g class=\"graph\" id=\"graph0\" transform=\"scale(1 1) rotate(0) translate(4 355.5)\">\n",
        "<title>%3</title>\n",
        "<polygon fill=\"white\" points=\"-4,4.5 -4,-355.5 648.261,-355.5 648.261,4.5 -4,4.5\" stroke=\"none\"/>\n",
        "<!-- BAMFile_alignment -->\n",
        "<g class=\"node\" id=\"node1\"><title>BAMFile_alignment</title>\n",
        "<polygon fill=\"none\" points=\"281.005,-0 281.005,-45 362.315,-45 362.315,-0 281.005,-0\" stroke=\"black\"/>\n",
        "<text font-family=\"Times,serif\" font-size=\"14.00\" text-anchor=\"middle\" x=\"321.66\" y=\"-29.8\">BAMFile</text>\n",
        "<polyline fill=\"none\" points=\"281.005,-23 362.315,-23 \" stroke=\"black\"/>\n",
        "<text font-family=\"Times,serif\" font-size=\"14.00\" text-anchor=\"middle\" x=\"321.66\" y=\"-7.3\">[alignment]</text>\n",
        "</g>\n",
        "<!-- SavedBowtie2Index_indexfilepattern -->\n",
        "<g class=\"node\" id=\"node2\"><title>SavedBowtie2Index_indexfilepattern</title>\n",
        "<polygon fill=\"none\" points=\"72.66,-153 72.66,-198 202.66,-198 202.66,-153 72.66,-153\" stroke=\"black\"/>\n",
        "<text font-family=\"Times,serif\" font-size=\"14.00\" text-anchor=\"middle\" x=\"137.426\" y=\"-182.8\">SavedBowtie2Index</text>\n",
        "<polyline fill=\"none\" points=\"72.66,-176 202.191,-176 \" stroke=\"black\"/>\n",
        "<text font-family=\"Times,serif\" font-size=\"14.00\" text-anchor=\"middle\" x=\"137.426\" y=\"-160.3\">[indexfilepattern]</text>\n",
        "</g>\n",
        "<!-- railroadtracks.model.aligners.Bowtie2 -->\n",
        "<g class=\"node\" id=\"node3\"><title>railroadtracks.model.aligners.Bowtie2</title>\n",
        "<polygon fill=\"lightgrey\" points=\"436.871,-117 206.449,-117 206.449,-81 436.871,-81 436.871,-117\" stroke=\"black\"/>\n",
        "<text font-family=\"Times,serif\" font-size=\"14.00\" text-anchor=\"middle\" x=\"321.66\" y=\"-94.8\">railroadtracks.model.aligners.Bowtie2</text>\n",
        "<text font-family=\"Times,serif\" font-size=\"14.00\" text-anchor=\"middle\" x=\"203.06\" y=\"-119.8\">3</text>\n",
        "</g>\n",
        "<!-- SavedBowtie2Index_indexfilepattern&#45;&gt;railroadtracks.model.aligners.Bowtie2 -->\n",
        "<g class=\"edge\" id=\"edge1\"><title>SavedBowtie2Index_indexfilepattern-&gt;railroadtracks.model.aligners.Bowtie2</title>\n",
        "<path d=\"M189.9,-153.35C215.05,-143.17 245.12,-130.99 270.17,-120.85\" fill=\"none\" stroke=\"black\"/>\n",
        "<polygon fill=\"black\" points=\"271.553,-124.066 279.51,-117.07 268.927,-117.577 271.553,-124.066\" stroke=\"black\"/>\n",
        "</g>\n",
        "<!-- railroadtracks.model.aligners.Bowtie2&#45;&gt;BAMFile_alignment -->\n",
        "<g class=\"edge\" id=\"edge2\"><title>railroadtracks.model.aligners.Bowtie2-&gt;BAMFile_alignment</title>\n",
        "<path d=\"M321.66,-80.721C321.66,-72.997 321.66,-63.647 321.66,-54.763\" fill=\"none\" stroke=\"black\"/>\n",
        "<polygon fill=\"black\" points=\"325.16,-54.674 321.66,-44.674 318.16,-54.674 325.16,-54.674\" stroke=\"black\"/>\n",
        "</g>\n",
        "<!-- SavedFASTA_reference -->\n",
        "<g class=\"node\" id=\"node4\"><title>SavedFASTA_reference</title>\n",
        "<polygon fill=\"none\" points=\"91.4539,-306 91.4539,-351 183.866,-351 183.866,-306 91.4539,-306\" stroke=\"black\"/>\n",
        "<text font-family=\"Times,serif\" font-size=\"14.00\" text-anchor=\"middle\" x=\"137.66\" y=\"-335.8\">SavedFASTA</text>\n",
        "<polyline fill=\"none\" points=\"91.4539,-329 183.866,-329 \" stroke=\"black\"/>\n",
        "<text font-family=\"Times,serif\" font-size=\"14.00\" text-anchor=\"middle\" x=\"137.66\" y=\"-313.3\">[reference]</text>\n",
        "</g>\n",
        "<!-- railroadtracks.model.aligners.Bowtie2Build -->\n",
        "<g class=\"node\" id=\"node5\"><title>railroadtracks.model.aligners.Bowtie2Build</title>\n",
        "<polygon fill=\"lightgrey\" points=\"268.488,-270 6.83167,-270 6.83167,-234 268.488,-234 268.488,-270\" stroke=\"black\"/>\n",
        "<text font-family=\"Times,serif\" font-size=\"14.00\" text-anchor=\"middle\" x=\"137.66\" y=\"-247.8\">railroadtracks.model.aligners.Bowtie2Build</text>\n",
        "<text font-family=\"Times,serif\" font-size=\"14.00\" text-anchor=\"middle\" x=\"3.5\" y=\"-272.8\">3</text>\n",
        "</g>\n",
        "<!-- SavedFASTA_reference&#45;&gt;railroadtracks.model.aligners.Bowtie2Build -->\n",
        "<g class=\"edge\" id=\"edge3\"><title>SavedFASTA_reference-&gt;railroadtracks.model.aligners.Bowtie2Build</title>\n",
        "<path d=\"M137.66,-306.35C137.66,-298.37 137.66,-289.16 137.66,-280.66\" fill=\"none\" stroke=\"black\"/>\n",
        "<polygon fill=\"black\" points=\"141.16,-280.43 137.66,-270.43 134.16,-280.43 141.16,-280.43\" stroke=\"black\"/>\n",
        "</g>\n",
        "<!-- railroadtracks.model.aligners.Bowtie2Build&#45;&gt;SavedBowtie2Index_indexfilepattern -->\n",
        "<g class=\"edge\" id=\"edge4\"><title>railroadtracks.model.aligners.Bowtie2Build-&gt;SavedBowtie2Index_indexfilepattern</title>\n",
        "<path d=\"M137.66,-233.72C137.66,-226 137.66,-216.65 137.66,-207.76\" fill=\"none\" stroke=\"black\"/>\n",
        "<polygon fill=\"black\" points=\"141.16,-207.67 137.66,-197.67 134.16,-207.67 141.16,-207.67\" stroke=\"black\"/>\n",
        "</g>\n",
        "<!-- FASTQPossiblyGzipCompressed_read1 -->\n",
        "<g class=\"node\" id=\"node6\"><title>FASTQPossiblyGzipCompressed_read1</title>\n",
        "<polygon fill=\"none\" points=\"220.059,-153 220.059,-198 423.261,-198 423.261,-153 220.059,-153\" stroke=\"black\"/>\n",
        "<text font-family=\"Times,serif\" font-size=\"14.00\" text-anchor=\"middle\" x=\"321.66\" y=\"-182.8\">FASTQPossiblyGzipCompressed</text>\n",
        "<polyline fill=\"none\" points=\"220.059,-176 423.261,-176 \" stroke=\"black\"/>\n",
        "<text font-family=\"Times,serif\" font-size=\"14.00\" text-anchor=\"middle\" x=\"321.66\" y=\"-160.3\">[read1]</text>\n",
        "</g>\n",
        "<!-- FASTQPossiblyGzipCompressed_read1&#45;&gt;railroadtracks.model.aligners.Bowtie2 -->\n",
        "<g class=\"edge\" id=\"edge5\"><title>FASTQPossiblyGzipCompressed_read1-&gt;railroadtracks.model.aligners.Bowtie2</title>\n",
        "<path d=\"M321.66,-153.35C321.66,-145.37 321.66,-136.16 321.66,-127.66\" fill=\"none\" stroke=\"black\"/>\n",
        "<polygon fill=\"black\" points=\"325.16,-127.43 321.66,-117.43 318.16,-127.43 325.16,-127.43\" stroke=\"black\"/>\n",
        "</g>\n",
        "<!-- FASTQPossiblyGzipCompressed_read2 -->\n",
        "<g class=\"node\" id=\"node7\"><title>FASTQPossiblyGzipCompressed_read2</title>\n",
        "<polygon fill=\"none\" points=\"441.059,-153 441.059,-198 644.261,-198 644.261,-153 441.059,-153\" stroke=\"black\"/>\n",
        "<text font-family=\"Times,serif\" font-size=\"14.00\" text-anchor=\"middle\" x=\"542.66\" y=\"-182.8\">FASTQPossiblyGzipCompressed</text>\n",
        "<polyline fill=\"none\" points=\"441.059,-176 644.261,-176 \" stroke=\"black\"/>\n",
        "<text font-family=\"Times,serif\" font-size=\"14.00\" text-anchor=\"middle\" x=\"542.66\" y=\"-160.3\">[read2]</text>\n",
        "</g>\n",
        "<!-- FASTQPossiblyGzipCompressed_read2&#45;&gt;railroadtracks.model.aligners.Bowtie2 -->\n",
        "<g class=\"edge\" id=\"edge6\"><title>FASTQPossiblyGzipCompressed_read2-&gt;railroadtracks.model.aligners.Bowtie2</title>\n",
        "<path d=\"M480.22,-153.45C449.47,-143.08 412.55,-130.64 382.08,-120.37\" fill=\"none\" stroke=\"black\"/>\n",
        "<polygon fill=\"black\" points=\"383.014,-116.991 372.42,-117.11 380.776,-123.624 383.014,-116.991\" stroke=\"black\"/>\n",
        "</g>\n",
        "</g>\n",
        "</svg>"
       ],
       "text": [
        "<IPython.core.display.SVG at 0x10a80d5d0>"
       ]
      }
     ],
     "prompt_number": 46
    },
    {
     "cell_type": "markdown",
     "metadata": {},
     "source": [
      "We are running tasks as they are added, but it also possible to create lists of tasks, and only run them at a later stage.\n",
      "The class `easy.TaskSet` is designed as a container for tasks, with the flavour of a `set` (which means that set operations such as intersection or union can be performed - an example of this can be found below)."
     ]
    },
    {
     "cell_type": "code",
     "collapsed": false,
     "input": [
      "bowtie2 = env.activities.ALIGN.bowtie2\n",
      "Assets = bowtie2.Assets\n",
      "ts = easy.TaskSet()\n",
      "# note that we are included the pair of FASTQ already aligned above\n",
      "for i in (0, 1, 2):\n",
      "    task = project.add_task(bowtie2,\n",
      "                            Assets(Assets.Source(index_task.call.assets.target.indexfilepattern,\n",
      "                                                 FASTQ(pairnames[i][0]),\n",
      "                                                 FASTQ(pairnames[i][1])),\n",
      "                            Assets.Target.createundefined()))\n",
      "    ts.add(task)\n",
      "# Count the status of the tasks in the set\n",
      "# (1 is done, 2 are not yet done)\n",
      "ts.status()"
     ],
     "language": "python",
     "metadata": {},
     "outputs": [
      {
       "metadata": {},
       "output_type": "pyout",
       "prompt_number": 47,
       "text": [
        "Counter({u'To do': 2, u'Done': 1})"
       ]
      }
     ],
     "prompt_number": 47
    },
    {
     "cell_type": "markdown",
     "metadata": {},
     "source": [
      "While the tasks in the set could be run one after the other, it might make better computational sense to run independent tasks in parallel.\n",
      "\n",
      "The module `easy` is also providing infrastructure to make this easier. Here an example using *ad hoc* processes running on the same host:"
     ]
    },
    {
     "cell_type": "code",
     "collapsed": false,
     "input": [
      "n_processes = 2\n",
      "mpe = easy.MultiprocessingExecution(n_processes)\n",
      "\n",
      "# set of tasks that are already completed\n",
      "ts_by_status = ts.split_by_status()\n",
      "ts_done = ts_by_status[easy.hortator._TASK_DONE]\n",
      "\n",
      "# task sets implement set operations. Here we are using set difference:\n",
      "ts_notdone = ts.difference(ts_done)\n",
      "\n",
      "# map the tasks to the multiprocessing-based execution\n",
      "mpe.map(ts_notdone)"
     ],
     "language": "python",
     "metadata": {},
     "outputs": [
      {
       "output_type": "stream",
       "stream": "stdout",
       "text": [
        "DbID(id=3, new=True): Done\n",
        "DbID(id=4, new=True): Done\n"
       ]
      },
      {
       "metadata": {},
       "output_type": "pyout",
       "prompt_number": 48,
       "text": [
        "Counter({'Done': 2})"
       ]
      }
     ],
     "prompt_number": 48
    },
    {
     "cell_type": "markdown",
     "metadata": {},
     "source": [
      "<div class=\"mybox\">\n",
      "   <h3>Note</h3>\n",
      "   <p> Changing the way to execute task is a matter of using something else than `easy.MultiprocessingExecution`.\n",
      "   </p>\n",
      "</div>"
     ]
    },
    {
     "cell_type": "markdown",
     "metadata": {},
     "source": [
      "All alignment tasks should now be complete, which can be verified easily."
     ]
    },
    {
     "cell_type": "code",
     "collapsed": false,
     "input": [
      "display(project)"
     ],
     "language": "python",
     "metadata": {},
     "outputs": [
      {
       "html": [
        "<style>\n",
        "\n",
        "table.rsrsproject {\n",
        "  width: 100%;\n",
        "  max-width: 40em;\n",
        "  border-collapse:separate;\n",
        "  border:solid black 2px;\n",
        "  -moz-border-radius:6px;\n",
        "  -webkit-border-radius:6px;\n",
        "  border-radius:6px;\n",
        "}\n",
        "table.rsrsproject thead {\n",
        "  background-color:rgb(235,235,235);\n",
        "}\n",
        "table.rsrsproject th:first-child {\n",
        "  -moz-border-radius:6px 0 0 0;\n",
        "  -webkit-border-radius:6px 0 0 0;\n",
        "  border-radius:6px 0 0 0;\n",
        "}\n",
        "table.rsrsproject th:last-child {\n",
        "  -moz-border-radius: 0 6px 0 0;\n",
        "  -webkit-border-radius: 0 6px 0 0;\n",
        "  border-radius: 0 6px 0 0;\n",
        "}\n",
        "table.rsrsproject th:only-child {\n",
        "  -moz-border-radius: 6px 6px 0 0;\n",
        "  -webkit-border-radius: 6px 6px 0 0;\n",
        "  border-radius: 6px 6px 0 0;\n",
        "}\n",
        "table.rsrsproject .inverse {\n",
        "  background-color: rgb(50,50,50);\n",
        "  color: rgb(230,230,230);\n",
        "}\n",
        "\n",
        "progress.rsrsproject {\n",
        "  -webkit-appearance:none;\n",
        "  -moz-appearance:none;\n",
        "  appearance:none;\n",
        "}\n",
        "progress[value].rsrsproject::-webkit-progress-bar {\n",
        "  background-color: rgb(230,230,230);\n",
        "  box-shadow: 0 2px 5px rgba(0,0,0,0.25) inset;\n",
        "}\n",
        "progress[value].rsrsproject::-webkit-progress-value {\n",
        "  background-color: rgb(150,150,250);\n",
        "}\n",
        "progress[value].rsrsproject {\n",
        "  border: none;\n",
        "  box-shadow: 0 2px 5px rgba(0,0,0,0.25) inset;\n",
        "}\n",
        "progress[value].rsrsproject::-moz-progress-bar {\n",
        "  background-color: rgb(150,150,250);\n",
        "}\n",
        "\n",
        "</style>\n",
        "<table class=\"rsrsproject\">\n",
        "<thead>\n",
        "  <tr>\n",
        "    <th colspan=\"2\">\n",
        "      New \"railroadtracks\" project\n",
        "    </th>\n",
        "  </tr>\n",
        "  <tr>\n",
        "    <th colspan=\"2\">Working directory</th>\n",
        "  </tr>\n",
        "</thead>\n",
        "<tbody>\n",
        "  <tr>\n",
        "    <td colspan=\"2\">/tmp/dummy_project</td>\n",
        "  </tr>\n",
        "  <tr>\n",
        "    <td>Disk space</td>\n",
        "    <td><progress class=\"rsrsproject\" max=\"464\" value=\"123\"></progress>&nbsp;123.00GB (total: 464.00GB)</td>\n",
        "  </tr>\n",
        "</tbody>\n",
        "<thead>\n",
        "  <tr>\n",
        "    <td colspan=\"2\">Tasks</td>\n",
        "  </tr>\n",
        "</thead>\n",
        "<tbody>\n",
        "  \n",
        "  <tr>\n",
        "    <td>Done</td>\n",
        "    <td><progress class=\"rsrsproject\" max=\"4\" value=\"4\"></progress>&nbsp;4/4</td>\n",
        "  </tr>\n",
        "  \n",
        "</tbody>\n",
        "</table>\n",
        "<table  class=\"rsrsproject\">\n",
        "<thead>\n",
        "  <tr>\n",
        "  <th>Activity</th>\n",
        "  <th>Progress</th>\n",
        "  </tr>\n",
        "</thead>\n",
        "<tbody>\n",
        "  \n",
        "  <tr>\n",
        "    <td>Index</td>\n",
        "    <td><progress class=\"rsrsproject\" max=\"1\" value=\"1\"></progress>&nbsp;1/1</td>\n",
        "  </tr>\n",
        "  \n",
        "  <tr>\n",
        "    <td>Align</td>\n",
        "    <td><progress class=\"rsrsproject\" max=\"3\" value=\"3\"></progress>&nbsp;3/3</td>\n",
        "  </tr>\n",
        "  \n",
        "</tbody>\n",
        "</table>\n",
        "<table class=\"rsrsproject\">\n",
        "<thead>\n",
        "  <tr>\n",
        "  <th>Result Type</th>\n",
        "  <th>Progress</th>\n",
        "  </tr>\n",
        "</thead>\n",
        "<tbody>\n",
        "  \n",
        "  <tr>\n",
        "    <td>BAMFile</td>\n",
        "    <td><progress class=\"rsrsproject\" max=\"3\" value=\"3\"></progress>&nbsp;3/3</td>\n",
        "  </tr>\n",
        "  \n",
        "</tbody>\n",
        "</table>"
       ],
       "metadata": {},
       "output_type": "display_data",
       "text": [
        "\n",
        "New project\n",
        "Working directory: /tmp/dummy_project\n",
        "Database file: /tmp/dummy_project/railroadtracks.db\n",
        "Number of recorded steps: 4"
       ]
      }
     ],
     "prompt_number": 49
    },
    {
     "cell_type": "markdown",
     "metadata": {},
     "source": [
      "A summary graph of the provenance for all alignments can also be made to verify that everything went according to plan."
     ]
    },
    {
     "cell_type": "code",
     "collapsed": false,
     "input": [
      "results = project.get_targetsofactivity(rnaseq.ACTIVITY.ALIGN)\n",
      "#FIXME: The layout is a bit too sparse \n",
      "SVG(rsip.svg_provenancegraph(project, results, display=rsip.GRAPHDISPLAY.TASKLEVEL))"
     ],
     "language": "python",
     "metadata": {},
     "outputs": [
      {
       "metadata": {},
       "output_type": "pyout",
       "prompt_number": 50,
       "svg": [
        "<svg height=\"1632pt\" viewBox=\"0.00 0.00 1632.20 1632.20\" width=\"1632pt\" xmlns=\"http://www.w3.org/2000/svg\" xmlns:xlink=\"http://www.w3.org/1999/xlink\">\n",
        "<g class=\"graph\" id=\"graph0\" transform=\"scale(1 1) rotate(0) translate(4 1628.2)\">\n",
        "<title>compose( , \u00a0)</title>\n",
        "<polygon fill=\"white\" points=\"-4,4 -4,-1628.2 1628.2,-1628.2 1628.2,4 -4,4\" stroke=\"none\"/>\n",
        "<!-- 10 | FASTQPossiblyGzipCompressed -->\n",
        "<g class=\"node\" id=\"node1\"><title>10 | FASTQPossiblyGzipCompressed</title>\n",
        "<polygon fill=\"none\" points=\"244.5,-789.601 244.5,-834.601 477.702,-834.601 477.702,-789.601 244.5,-789.601\" stroke=\"black\"/>\n",
        "<text font-family=\"Times,serif\" font-size=\"14.00\" text-anchor=\"middle\" x=\"259.5\" y=\"-807.901\">10</text>\n",
        "<polyline fill=\"none\" points=\"274.5,-789.601 274.5,-834.601 \" stroke=\"black\"/>\n",
        "<text font-family=\"Times,serif\" font-size=\"14.00\" text-anchor=\"middle\" x=\"376.101\" y=\"-819.401\">FASTQPossiblyGzipCompressed</text>\n",
        "<polyline fill=\"none\" points=\"274.5,-812.601 477.702,-812.601 \" stroke=\"black\"/>\n",
        "<text font-family=\"Times,serif\" font-size=\"14.00\" text-anchor=\"middle\" x=\"376.101\" y=\"-796.901\">[read2]</text>\n",
        "</g>\n",
        "<!-- 4 | railroadtracks.model.aligners.Bowtie2 -->\n",
        "<g class=\"node\" id=\"node2\"><title>4 | railroadtracks.model.aligners.Bowtie2</title>\n",
        "<polygon fill=\"lightgrey\" points=\"484.615,-436.826 237.587,-436.826 237.587,-400.826 484.615,-400.826 484.615,-436.826\" stroke=\"black\"/>\n",
        "<text font-family=\"Times,serif\" font-size=\"14.00\" text-anchor=\"middle\" x=\"361.101\" y=\"-414.626\">4 | railroadtracks.model.aligners.Bowtie2</text>\n",
        "<text font-family=\"Times,serif\" font-size=\"14.00\" text-anchor=\"middle\" x=\"234.091\" y=\"-397.8\">3</text>\n",
        "</g>\n",
        "<!-- 10 | FASTQPossiblyGzipCompressed&#45;&gt;4 | railroadtracks.model.aligners.Bowtie2 -->\n",
        "<g class=\"edge\" id=\"edge1\"><title>10 | FASTQPossiblyGzipCompressed-&gt;4 | railroadtracks.model.aligners.Bowtie2</title>\n",
        "<path d=\"M361.101,-789.544C361.101,-722.03 361.101,-521.626 361.101,-447.131\" fill=\"none\" stroke=\"black\"/>\n",
        "<polygon fill=\"black\" points=\"364.601,-447.084 361.101,-437.085 357.601,-447.085 364.601,-447.084\" stroke=\"black\"/>\n",
        "</g>\n",
        "<!-- 11 | BAMFile -->\n",
        "<g class=\"node\" id=\"node3\"><title>11 | BAMFile</title>\n",
        "<polygon fill=\"none\" points=\"305.601,-3.05174 305.601,-48.0517 416.601,-48.0517 416.601,-3.05174 305.601,-3.05174\" stroke=\"black\"/>\n",
        "<text font-family=\"Times,serif\" font-size=\"14.00\" text-anchor=\"middle\" x=\"320.345\" y=\"-21.3517\">11</text>\n",
        "<polyline fill=\"none\" points=\"335.088,-3.05174 335.088,-48.0517 \" stroke=\"black\"/>\n",
        "<text font-family=\"Times,serif\" font-size=\"14.00\" text-anchor=\"middle\" x=\"375.744\" y=\"-32.8517\">BAMFile</text>\n",
        "<polyline fill=\"none\" points=\"335.088,-26.0517 416.399,-26.0517 \" stroke=\"black\"/>\n",
        "<text font-family=\"Times,serif\" font-size=\"14.00\" text-anchor=\"middle\" x=\"375.744\" y=\"-10.3517\">[alignment]</text>\n",
        "</g>\n",
        "<!-- 4 | railroadtracks.model.aligners.Bowtie2&#45;&gt;11 | BAMFile -->\n",
        "<g class=\"edge\" id=\"edge2\"><title>4 | railroadtracks.model.aligners.Bowtie2-&gt;11 | BAMFile</title>\n",
        "<path d=\"M361.101,-400.647C361.101,-339.184 361.101,-138.541 361.101,-58.7305\" fill=\"none\" stroke=\"black\"/>\n",
        "<polygon fill=\"black\" points=\"364.601,-58.2979 361.101,-48.2979 357.601,-58.2979 364.601,-58.2979\" stroke=\"black\"/>\n",
        "</g>\n",
        "<!-- 2 | railroadtracks.model.aligners.Bowtie2 -->\n",
        "<g class=\"node\" id=\"node4\"><title>2 | railroadtracks.model.aligners.Bowtie2</title>\n",
        "<polygon fill=\"lightgrey\" points=\"902.615,-436.826 655.587,-436.826 655.587,-400.826 902.615,-400.826 902.615,-436.826\" stroke=\"black\"/>\n",
        "<text font-family=\"Times,serif\" font-size=\"14.00\" text-anchor=\"middle\" x=\"779.101\" y=\"-414.626\">2 | railroadtracks.model.aligners.Bowtie2</text>\n",
        "<text font-family=\"Times,serif\" font-size=\"14.00\" text-anchor=\"middle\" x=\"652.091\" y=\"-397.8\">3</text>\n",
        "</g>\n",
        "<!-- 5 | BAMFile -->\n",
        "<g class=\"node\" id=\"node5\"><title>5 | BAMFile</title>\n",
        "<polygon fill=\"none\" points=\"726.946,-3.05174 726.946,-48.0517 831.256,-48.0517 831.256,-3.05174 726.946,-3.05174\" stroke=\"black\"/>\n",
        "<text font-family=\"Times,serif\" font-size=\"14.00\" text-anchor=\"middle\" x=\"738.446\" y=\"-21.3517\">5</text>\n",
        "<polyline fill=\"none\" points=\"749.946,-3.05174 749.946,-48.0517 \" stroke=\"black\"/>\n",
        "<text font-family=\"Times,serif\" font-size=\"14.00\" text-anchor=\"middle\" x=\"790.601\" y=\"-32.8517\">BAMFile</text>\n",
        "<polyline fill=\"none\" points=\"749.946,-26.0517 831.256,-26.0517 \" stroke=\"black\"/>\n",
        "<text font-family=\"Times,serif\" font-size=\"14.00\" text-anchor=\"middle\" x=\"790.601\" y=\"-10.3517\">[alignment]</text>\n",
        "</g>\n",
        "<!-- 2 | railroadtracks.model.aligners.Bowtie2&#45;&gt;5 | BAMFile -->\n",
        "<g class=\"edge\" id=\"edge3\"><title>2 | railroadtracks.model.aligners.Bowtie2-&gt;5 | BAMFile</title>\n",
        "<path d=\"M779.101,-400.647C779.101,-339.184 779.101,-138.541 779.101,-58.7305\" fill=\"none\" stroke=\"black\"/>\n",
        "<polygon fill=\"black\" points=\"782.601,-58.2979 779.101,-48.2979 775.601,-58.2979 782.601,-58.2979\" stroke=\"black\"/>\n",
        "</g>\n",
        "<!-- 8 | BAMFile -->\n",
        "<g class=\"node\" id=\"node6\"><title>8 | BAMFile</title>\n",
        "<polygon fill=\"none\" points=\"1214.95,-3.05174 1214.95,-48.0517 1319.26,-48.0517 1319.26,-3.05174 1214.95,-3.05174\" stroke=\"black\"/>\n",
        "<text font-family=\"Times,serif\" font-size=\"14.00\" text-anchor=\"middle\" x=\"1226.45\" y=\"-21.3517\">8</text>\n",
        "<polyline fill=\"none\" points=\"1237.95,-3.05174 1237.95,-48.0517 \" stroke=\"black\"/>\n",
        "<text font-family=\"Times,serif\" font-size=\"14.00\" text-anchor=\"middle\" x=\"1278.6\" y=\"-32.8517\">BAMFile</text>\n",
        "<polyline fill=\"none\" points=\"1237.95,-26.0517 1319.26,-26.0517 \" stroke=\"black\"/>\n",
        "<text font-family=\"Times,serif\" font-size=\"14.00\" text-anchor=\"middle\" x=\"1278.6\" y=\"-10.3517\">[alignment]</text>\n",
        "</g>\n",
        "<!-- 2 | SavedBowtie2Index -->\n",
        "<g class=\"node\" id=\"node7\"><title>2 | SavedBowtie2Index</title>\n",
        "<polygon fill=\"none\" points=\"495.601,-789.601 495.601,-834.601 648.601,-834.601 648.601,-789.601 495.601,-789.601\" stroke=\"black\"/>\n",
        "<text font-family=\"Times,serif\" font-size=\"14.00\" text-anchor=\"middle\" x=\"507.101\" y=\"-807.901\">2</text>\n",
        "<polyline fill=\"none\" points=\"518.601,-789.601 518.601,-834.601 \" stroke=\"black\"/>\n",
        "<text font-family=\"Times,serif\" font-size=\"14.00\" text-anchor=\"middle\" x=\"583.367\" y=\"-819.401\">SavedBowtie2Index</text>\n",
        "<polyline fill=\"none\" points=\"518.601,-812.601 648.132,-812.601 \" stroke=\"black\"/>\n",
        "<text font-family=\"Times,serif\" font-size=\"14.00\" text-anchor=\"middle\" x=\"583.367\" y=\"-796.901\">[indexfilepattern]</text>\n",
        "</g>\n",
        "<!-- 2 | SavedBowtie2Index&#45;&gt;4 | railroadtracks.model.aligners.Bowtie2 -->\n",
        "<g class=\"edge\" id=\"edge4\"><title>2 | SavedBowtie2Index-&gt;4 | railroadtracks.model.aligners.Bowtie2</title>\n",
        "<path d=\"M559.999,-789.544C523.627,-721.753 415.373,-519.981 375.799,-446.222\" fill=\"none\" stroke=\"black\"/>\n",
        "<polygon fill=\"black\" points=\"378.709,-444.242 370.897,-437.085 372.541,-447.551 378.709,-444.242\" stroke=\"black\"/>\n",
        "</g>\n",
        "<!-- 2 | SavedBowtie2Index&#45;&gt;2 | railroadtracks.model.aligners.Bowtie2 -->\n",
        "<g class=\"edge\" id=\"edge5\"><title>2 | SavedBowtie2Index-&gt;2 | railroadtracks.model.aligners.Bowtie2</title>\n",
        "<path d=\"M583.974,-789.544C619.656,-721.753 725.858,-519.981 764.682,-446.222\" fill=\"none\" stroke=\"black\"/>\n",
        "<polygon fill=\"black\" points=\"767.93,-447.564 769.491,-437.085 761.736,-444.303 767.93,-447.564\" stroke=\"black\"/>\n",
        "</g>\n",
        "<!-- 3 | railroadtracks.model.aligners.Bowtie2 -->\n",
        "<g class=\"node\" id=\"node8\"><title>3 | railroadtracks.model.aligners.Bowtie2</title>\n",
        "<polygon fill=\"lightgrey\" points=\"1390.61,-436.826 1143.59,-436.826 1143.59,-400.826 1390.61,-400.826 1390.61,-436.826\" stroke=\"black\"/>\n",
        "<text font-family=\"Times,serif\" font-size=\"14.00\" text-anchor=\"middle\" x=\"1267.1\" y=\"-414.626\">3 | railroadtracks.model.aligners.Bowtie2</text>\n",
        "<text font-family=\"Times,serif\" font-size=\"14.00\" text-anchor=\"middle\" x=\"1140.1\" y=\"-397.8\">3</text>\n",
        "</g>\n",
        "<!-- 2 | SavedBowtie2Index&#45;&gt;3 | railroadtracks.model.aligners.Bowtie2 -->\n",
        "<g class=\"edge\" id=\"edge6\"><title>2 | SavedBowtie2Index-&gt;3 | railroadtracks.model.aligners.Bowtie2</title>\n",
        "<path d=\"M611.964,-789.544C734.229,-720.359 1103.1,-511.627 1226.44,-441.836\" fill=\"none\" stroke=\"black\"/>\n",
        "<polygon fill=\"black\" points=\"1228.25,-444.833 1235.23,-436.862 1224.8,-438.741 1228.25,-444.833\" stroke=\"black\"/>\n",
        "</g>\n",
        "<!-- 3 | railroadtracks.model.aligners.Bowtie2&#45;&gt;8 | BAMFile -->\n",
        "<g class=\"edge\" id=\"edge7\"><title>3 | railroadtracks.model.aligners.Bowtie2-&gt;8 | BAMFile</title>\n",
        "<path d=\"M1267.1,-400.647C1267.1,-339.184 1267.1,-138.541 1267.1,-58.7305\" fill=\"none\" stroke=\"black\"/>\n",
        "<polygon fill=\"black\" points=\"1270.6,-58.2979 1267.1,-48.2979 1263.6,-58.2979 1270.6,-58.2979\" stroke=\"black\"/>\n",
        "</g>\n",
        "<!-- 1 | railroadtracks.model.aligners.Bowtie2Build -->\n",
        "<g class=\"node\" id=\"node9\"><title>1 | railroadtracks.model.aligners.Bowtie2Build</title>\n",
        "<polygon fill=\"lightgrey\" points=\"711.232,-1223.38 432.97,-1223.38 432.97,-1187.38 711.232,-1187.38 711.232,-1223.38\" stroke=\"black\"/>\n",
        "<text font-family=\"Times,serif\" font-size=\"14.00\" text-anchor=\"middle\" x=\"572.101\" y=\"-1201.18\">1 | railroadtracks.model.aligners.Bowtie2Build</text>\n",
        "<text font-family=\"Times,serif\" font-size=\"14.00\" text-anchor=\"middle\" x=\"429.541\" y=\"-1105.8\">3</text>\n",
        "</g>\n",
        "<!-- 1 | railroadtracks.model.aligners.Bowtie2Build&#45;&gt;2 | SavedBowtie2Index -->\n",
        "<g class=\"edge\" id=\"edge8\"><title>1 | railroadtracks.model.aligners.Bowtie2Build-&gt;2 | SavedBowtie2Index</title>\n",
        "<path d=\"M572.101,-1187.2C572.101,-1125.73 572.101,-925.09 572.101,-845.28\" fill=\"none\" stroke=\"black\"/>\n",
        "<polygon fill=\"black\" points=\"575.601,-844.847 572.101,-834.847 568.601,-844.847 575.601,-844.847\" stroke=\"black\"/>\n",
        "</g>\n",
        "<!-- 7 | FASTQPossiblyGzipCompressed -->\n",
        "<g class=\"node\" id=\"node10\"><title>7 | FASTQPossiblyGzipCompressed</title>\n",
        "<polygon fill=\"none\" points=\"1398,-789.601 1398,-834.601 1624.2,-834.601 1624.2,-789.601 1398,-789.601\" stroke=\"black\"/>\n",
        "<text font-family=\"Times,serif\" font-size=\"14.00\" text-anchor=\"middle\" x=\"1409.5\" y=\"-807.901\">7</text>\n",
        "<polyline fill=\"none\" points=\"1421,-789.601 1421,-834.601 \" stroke=\"black\"/>\n",
        "<text font-family=\"Times,serif\" font-size=\"14.00\" text-anchor=\"middle\" x=\"1522.6\" y=\"-819.401\">FASTQPossiblyGzipCompressed</text>\n",
        "<polyline fill=\"none\" points=\"1421,-812.601 1624.2,-812.601 \" stroke=\"black\"/>\n",
        "<text font-family=\"Times,serif\" font-size=\"14.00\" text-anchor=\"middle\" x=\"1522.6\" y=\"-796.901\">[read2]</text>\n",
        "</g>\n",
        "<!-- 7 | FASTQPossiblyGzipCompressed&#45;&gt;3 | railroadtracks.model.aligners.Bowtie2 -->\n",
        "<g class=\"edge\" id=\"edge9\"><title>7 | FASTQPossiblyGzipCompressed-&gt;3 | railroadtracks.model.aligners.Bowtie2</title>\n",
        "<path d=\"M1497.11,-789.544C1454.96,-721.615 1329.35,-519.157 1283.82,-445.772\" fill=\"none\" stroke=\"black\"/>\n",
        "<polygon fill=\"black\" points=\"1286.68,-443.737 1278.43,-437.085 1280.73,-447.427 1286.68,-443.737\" stroke=\"black\"/>\n",
        "</g>\n",
        "<!-- 1 | SavedFASTA -->\n",
        "<g class=\"node\" id=\"node11\"><title>1 | SavedFASTA</title>\n",
        "<polygon fill=\"none\" points=\"514.395,-1576.15 514.395,-1621.15 629.807,-1621.15 629.807,-1576.15 514.395,-1576.15\" stroke=\"black\"/>\n",
        "<text font-family=\"Times,serif\" font-size=\"14.00\" text-anchor=\"middle\" x=\"525.895\" y=\"-1594.45\">1</text>\n",
        "<polyline fill=\"none\" points=\"537.395,-1576.15 537.395,-1621.15 \" stroke=\"black\"/>\n",
        "<text font-family=\"Times,serif\" font-size=\"14.00\" text-anchor=\"middle\" x=\"583.601\" y=\"-1605.95\">SavedFASTA</text>\n",
        "<polyline fill=\"none\" points=\"537.395,-1599.15 629.807,-1599.15 \" stroke=\"black\"/>\n",
        "<text font-family=\"Times,serif\" font-size=\"14.00\" text-anchor=\"middle\" x=\"583.601\" y=\"-1583.45\">[reference]</text>\n",
        "</g>\n",
        "<!-- 1 | SavedFASTA&#45;&gt;1 | railroadtracks.model.aligners.Bowtie2Build -->\n",
        "<g class=\"edge\" id=\"edge10\"><title>1 | SavedFASTA-&gt;1 | railroadtracks.model.aligners.Bowtie2Build</title>\n",
        "<path d=\"M572.101,-1576.09C572.101,-1508.58 572.101,-1308.18 572.101,-1233.68\" fill=\"none\" stroke=\"black\"/>\n",
        "<polygon fill=\"black\" points=\"575.601,-1233.63 572.101,-1223.63 568.601,-1233.63 575.601,-1233.63\" stroke=\"black\"/>\n",
        "</g>\n",
        "<!-- 3 | FASTQPossiblyGzipCompressed -->\n",
        "<g class=\"node\" id=\"node12\"><title>3 | FASTQPossiblyGzipCompressed</title>\n",
        "<polygon fill=\"none\" points=\"666,-789.601 666,-834.601 892.202,-834.601 892.202,-789.601 666,-789.601\" stroke=\"black\"/>\n",
        "<text font-family=\"Times,serif\" font-size=\"14.00\" text-anchor=\"middle\" x=\"677.5\" y=\"-807.901\">3</text>\n",
        "<polyline fill=\"none\" points=\"689,-789.601 689,-834.601 \" stroke=\"black\"/>\n",
        "<text font-family=\"Times,serif\" font-size=\"14.00\" text-anchor=\"middle\" x=\"790.601\" y=\"-819.401\">FASTQPossiblyGzipCompressed</text>\n",
        "<polyline fill=\"none\" points=\"689,-812.601 892.202,-812.601 \" stroke=\"black\"/>\n",
        "<text font-family=\"Times,serif\" font-size=\"14.00\" text-anchor=\"middle\" x=\"790.601\" y=\"-796.901\">[read1]</text>\n",
        "</g>\n",
        "<!-- 3 | FASTQPossiblyGzipCompressed&#45;&gt;2 | railroadtracks.model.aligners.Bowtie2 -->\n",
        "<g class=\"edge\" id=\"edge11\"><title>3 | FASTQPossiblyGzipCompressed-&gt;2 | railroadtracks.model.aligners.Bowtie2</title>\n",
        "<path d=\"M779.101,-789.544C779.101,-722.03 779.101,-521.626 779.101,-447.131\" fill=\"none\" stroke=\"black\"/>\n",
        "<polygon fill=\"black\" points=\"782.601,-447.084 779.101,-437.085 775.601,-447.085 782.601,-447.084\" stroke=\"black\"/>\n",
        "</g>\n",
        "<!-- 6 | FASTQPossiblyGzipCompressed -->\n",
        "<g class=\"node\" id=\"node13\"><title>6 | FASTQPossiblyGzipCompressed</title>\n",
        "<polygon fill=\"none\" points=\"1154,-789.601 1154,-834.601 1380.2,-834.601 1380.2,-789.601 1154,-789.601\" stroke=\"black\"/>\n",
        "<text font-family=\"Times,serif\" font-size=\"14.00\" text-anchor=\"middle\" x=\"1165.5\" y=\"-807.901\">6</text>\n",
        "<polyline fill=\"none\" points=\"1177,-789.601 1177,-834.601 \" stroke=\"black\"/>\n",
        "<text font-family=\"Times,serif\" font-size=\"14.00\" text-anchor=\"middle\" x=\"1278.6\" y=\"-819.401\">FASTQPossiblyGzipCompressed</text>\n",
        "<polyline fill=\"none\" points=\"1177,-812.601 1380.2,-812.601 \" stroke=\"black\"/>\n",
        "<text font-family=\"Times,serif\" font-size=\"14.00\" text-anchor=\"middle\" x=\"1278.6\" y=\"-796.901\">[read1]</text>\n",
        "</g>\n",
        "<!-- 6 | FASTQPossiblyGzipCompressed&#45;&gt;3 | railroadtracks.model.aligners.Bowtie2 -->\n",
        "<g class=\"edge\" id=\"edge12\"><title>6 | FASTQPossiblyGzipCompressed-&gt;3 | railroadtracks.model.aligners.Bowtie2</title>\n",
        "<path d=\"M1267.1,-789.544C1267.1,-722.03 1267.1,-521.626 1267.1,-447.131\" fill=\"none\" stroke=\"black\"/>\n",
        "<polygon fill=\"black\" points=\"1270.6,-447.084 1267.1,-437.085 1263.6,-447.085 1270.6,-447.084\" stroke=\"black\"/>\n",
        "</g>\n",
        "<!-- 9 | FASTQPossiblyGzipCompressed -->\n",
        "<g class=\"node\" id=\"node14\"><title>9 | FASTQPossiblyGzipCompressed</title>\n",
        "<polygon fill=\"none\" points=\"0,-789.601 0,-834.601 226.202,-834.601 226.202,-789.601 0,-789.601\" stroke=\"black\"/>\n",
        "<text font-family=\"Times,serif\" font-size=\"14.00\" text-anchor=\"middle\" x=\"11.5\" y=\"-807.901\">9</text>\n",
        "<polyline fill=\"none\" points=\"23,-789.601 23,-834.601 \" stroke=\"black\"/>\n",
        "<text font-family=\"Times,serif\" font-size=\"14.00\" text-anchor=\"middle\" x=\"124.601\" y=\"-819.401\">FASTQPossiblyGzipCompressed</text>\n",
        "<polyline fill=\"none\" points=\"23,-812.601 226.202,-812.601 \" stroke=\"black\"/>\n",
        "<text font-family=\"Times,serif\" font-size=\"14.00\" text-anchor=\"middle\" x=\"124.601\" y=\"-796.901\">[read1]</text>\n",
        "</g>\n",
        "<!-- 9 | FASTQPossiblyGzipCompressed&#45;&gt;4 | railroadtracks.model.aligners.Bowtie2 -->\n",
        "<g class=\"edge\" id=\"edge13\"><title>9 | FASTQPossiblyGzipCompressed-&gt;4 | railroadtracks.model.aligners.Bowtie2</title>\n",
        "<path d=\"M127.325,-789.544C170.162,-721.615 297.832,-519.157 344.109,-445.772\" fill=\"none\" stroke=\"black\"/>\n",
        "<polygon fill=\"black\" points=\"347.214,-447.41 349.587,-437.085 341.293,-443.676 347.214,-447.41\" stroke=\"black\"/>\n",
        "</g>\n",
        "<!-- 4 | FASTQPossiblyGzipCompressed -->\n",
        "<g class=\"node\" id=\"node15\"><title>4 | FASTQPossiblyGzipCompressed</title>\n",
        "<polygon fill=\"none\" points=\"910,-789.601 910,-834.601 1136.2,-834.601 1136.2,-789.601 910,-789.601\" stroke=\"black\"/>\n",
        "<text font-family=\"Times,serif\" font-size=\"14.00\" text-anchor=\"middle\" x=\"921.5\" y=\"-807.901\">4</text>\n",
        "<polyline fill=\"none\" points=\"933,-789.601 933,-834.601 \" stroke=\"black\"/>\n",
        "<text font-family=\"Times,serif\" font-size=\"14.00\" text-anchor=\"middle\" x=\"1034.6\" y=\"-819.401\">FASTQPossiblyGzipCompressed</text>\n",
        "<polyline fill=\"none\" points=\"933,-812.601 1136.2,-812.601 \" stroke=\"black\"/>\n",
        "<text font-family=\"Times,serif\" font-size=\"14.00\" text-anchor=\"middle\" x=\"1034.6\" y=\"-796.901\">[read2]</text>\n",
        "</g>\n",
        "<!-- 4 | FASTQPossiblyGzipCompressed&#45;&gt;2 | railroadtracks.model.aligners.Bowtie2 -->\n",
        "<g class=\"edge\" id=\"edge14\"><title>4 | FASTQPossiblyGzipCompressed-&gt;2 | railroadtracks.model.aligners.Bowtie2</title>\n",
        "<path d=\"M1009.11,-789.544C966.96,-721.615 841.35,-519.157 795.819,-445.772\" fill=\"none\" stroke=\"black\"/>\n",
        "<polygon fill=\"black\" points=\"798.675,-443.737 790.429,-437.085 792.727,-447.427 798.675,-443.737\" stroke=\"black\"/>\n",
        "</g>\n",
        "</g>\n",
        "</svg>"
       ],
       "text": [
        "<IPython.core.display.SVG at 0x10a8af0d0>"
       ]
      }
     ],
     "prompt_number": 50
    },
    {
     "cell_type": "markdown",
     "metadata": {},
     "source": [
      "This is now reflected by what is displayed for the project. The \"results\" are terminal nodes in the dependency graph, so 3 alignments, 1 \"bowtie2 index\" entity, and a GSNAP index (as a loosely characterized entity)."
     ]
    },
    {
     "cell_type": "code",
     "collapsed": false,
     "input": [
      "display(project)"
     ],
     "language": "python",
     "metadata": {},
     "outputs": [
      {
       "html": [
        "<style>\n",
        "\n",
        "table.rsrsproject {\n",
        "  width: 100%;\n",
        "  max-width: 40em;\n",
        "  border-collapse:separate;\n",
        "  border:solid black 2px;\n",
        "  -moz-border-radius:6px;\n",
        "  -webkit-border-radius:6px;\n",
        "  border-radius:6px;\n",
        "}\n",
        "table.rsrsproject thead {\n",
        "  background-color:rgb(235,235,235);\n",
        "}\n",
        "table.rsrsproject th:first-child {\n",
        "  -moz-border-radius:6px 0 0 0;\n",
        "  -webkit-border-radius:6px 0 0 0;\n",
        "  border-radius:6px 0 0 0;\n",
        "}\n",
        "table.rsrsproject th:last-child {\n",
        "  -moz-border-radius: 0 6px 0 0;\n",
        "  -webkit-border-radius: 0 6px 0 0;\n",
        "  border-radius: 0 6px 0 0;\n",
        "}\n",
        "table.rsrsproject th:only-child {\n",
        "  -moz-border-radius: 6px 6px 0 0;\n",
        "  -webkit-border-radius: 6px 6px 0 0;\n",
        "  border-radius: 6px 6px 0 0;\n",
        "}\n",
        "table.rsrsproject .inverse {\n",
        "  background-color: rgb(50,50,50);\n",
        "  color: rgb(230,230,230);\n",
        "}\n",
        "\n",
        "progress.rsrsproject {\n",
        "  -webkit-appearance:none;\n",
        "  -moz-appearance:none;\n",
        "  appearance:none;\n",
        "}\n",
        "progress[value].rsrsproject::-webkit-progress-bar {\n",
        "  background-color: rgb(230,230,230);\n",
        "  box-shadow: 0 2px 5px rgba(0,0,0,0.25) inset;\n",
        "}\n",
        "progress[value].rsrsproject::-webkit-progress-value {\n",
        "  background-color: rgb(150,150,250);\n",
        "}\n",
        "progress[value].rsrsproject {\n",
        "  border: none;\n",
        "  box-shadow: 0 2px 5px rgba(0,0,0,0.25) inset;\n",
        "}\n",
        "progress[value].rsrsproject::-moz-progress-bar {\n",
        "  background-color: rgb(150,150,250);\n",
        "}\n",
        "\n",
        "</style>\n",
        "<table class=\"rsrsproject\">\n",
        "<thead>\n",
        "  <tr>\n",
        "    <th colspan=\"2\">\n",
        "      New \"railroadtracks\" project\n",
        "    </th>\n",
        "  </tr>\n",
        "  <tr>\n",
        "    <th colspan=\"2\">Working directory</th>\n",
        "  </tr>\n",
        "</thead>\n",
        "<tbody>\n",
        "  <tr>\n",
        "    <td colspan=\"2\">/tmp/dummy_project</td>\n",
        "  </tr>\n",
        "  <tr>\n",
        "    <td>Disk space</td>\n",
        "    <td><progress class=\"rsrsproject\" max=\"464\" value=\"123\"></progress>&nbsp;123.00GB (total: 464.00GB)</td>\n",
        "  </tr>\n",
        "</tbody>\n",
        "<thead>\n",
        "  <tr>\n",
        "    <td colspan=\"2\">Tasks</td>\n",
        "  </tr>\n",
        "</thead>\n",
        "<tbody>\n",
        "  \n",
        "  <tr>\n",
        "    <td>Done</td>\n",
        "    <td><progress class=\"rsrsproject\" max=\"4\" value=\"4\"></progress>&nbsp;4/4</td>\n",
        "  </tr>\n",
        "  \n",
        "</tbody>\n",
        "</table>\n",
        "<table  class=\"rsrsproject\">\n",
        "<thead>\n",
        "  <tr>\n",
        "  <th>Activity</th>\n",
        "  <th>Progress</th>\n",
        "  </tr>\n",
        "</thead>\n",
        "<tbody>\n",
        "  \n",
        "  <tr>\n",
        "    <td>Index</td>\n",
        "    <td><progress class=\"rsrsproject\" max=\"1\" value=\"1\"></progress>&nbsp;1/1</td>\n",
        "  </tr>\n",
        "  \n",
        "  <tr>\n",
        "    <td>Align</td>\n",
        "    <td><progress class=\"rsrsproject\" max=\"3\" value=\"3\"></progress>&nbsp;3/3</td>\n",
        "  </tr>\n",
        "  \n",
        "</tbody>\n",
        "</table>\n",
        "<table class=\"rsrsproject\">\n",
        "<thead>\n",
        "  <tr>\n",
        "  <th>Result Type</th>\n",
        "  <th>Progress</th>\n",
        "  </tr>\n",
        "</thead>\n",
        "<tbody>\n",
        "  \n",
        "  <tr>\n",
        "    <td>BAMFile</td>\n",
        "    <td><progress class=\"rsrsproject\" max=\"3\" value=\"3\"></progress>&nbsp;3/3</td>\n",
        "  </tr>\n",
        "  \n",
        "</tbody>\n",
        "</table>"
       ],
       "metadata": {},
       "output_type": "display_data",
       "text": [
        "\n",
        "New project\n",
        "Working directory: /tmp/dummy_project\n",
        "Database file: /tmp/dummy_project/railroadtracks.db\n",
        "Number of recorded steps: 4"
       ]
      }
     ],
     "prompt_number": 51
    },
    {
     "cell_type": "markdown",
     "metadata": {},
     "source": [
      "Steps can have parameters outside of the source (and target) files. They can be specified when a task in a project is created.\n",
      "Here we specify the maximum number of alignments per read with *bowtie*. These new tasks (one per FASTQ file) are distinct from the previous one because the parameters are different (note few cells below that we now have three new task in the project)."
     ]
    },
    {
     "cell_type": "code",
     "collapsed": false,
     "input": [
      "Assets = bowtie2.Assets\n",
      "ts = easy.TaskSet()\n",
      "for i in (0,1,2):\n",
      "    task = project.add_task(bowtie2,\n",
      "                        Assets(Assets.Source(index_task.call.assets.target.indexfilepattern,\n",
      "                                             FASTQ(pairnames[i][0]),\n",
      "                                             FASTQ(pairnames[i][1])),\n",
      "                               Assets.Target.createundefined()),\n",
      "                        parameters = ('-k', '10'))\n",
      "    ts.add(task)"
     ],
     "language": "python",
     "metadata": {},
     "outputs": [],
     "prompt_number": 52
    },
    {
     "cell_type": "code",
     "collapsed": false,
     "input": [
      "display(task)"
     ],
     "language": "python",
     "metadata": {},
     "outputs": [
      {
       "html": [
        "<table>\n",
        "<thead>\n",
        "</thead>\n",
        "<tbody>\n",
        "<tr><td>ID</td><td>DbID(id=7, new=True)</td></tr>\n",
        "<tr><td>Info</td><td>(2, u'To do', 1412693092.520043)</td></tr>\n",
        "<tr><td>Step</td><td>Bowtie2</td></tr>\n",
        "<tr><td>Source</td><td colspan=\"2\">\n",
        "\n",
        "<table class=\"rsrsproject\">\n",
        "<thead>\n",
        "  <tr>\n",
        "  <th>Name</th>\n",
        "  <th>Class</th>\n",
        "  <th></th>\n",
        "  </tr>\n",
        "</thead>\n",
        "<tbody>\n",
        "  \n",
        "  <tr>\n",
        "    <td>indexfilepattern</td>\n",
        "    <td>&lt;class &#39;railroadtracks.model.aligners.SavedBowtie2Index&#39;&gt;</td>\n",
        "    <td class=\"\">(\"defined\")</td>\n",
        "  </tr>\n",
        "  \n",
        "  <tr>\n",
        "    <td>read1</td>\n",
        "    <td>&lt;class &#39;railroadtracks.model.files.FASTQPossiblyGzipCompressed&#39;&gt;</td>\n",
        "    <td class=\"\">(\"defined\")</td>\n",
        "  </tr>\n",
        "  \n",
        "  <tr>\n",
        "    <td>read2</td>\n",
        "    <td>&lt;class &#39;railroadtracks.model.files.FASTQPossiblyGzipCompressed&#39;&gt;</td>\n",
        "    <td class=\"\">(\"defined\")</td>\n",
        "  </tr>\n",
        "  \n",
        "</tbody>\n",
        "</table>\n",
        "\n",
        "</td>\n",
        "</tr>\n",
        "<tr><td>Target</td>\n",
        "<td colspan=\"2\">\n",
        "\n",
        "<table class=\"rsrsproject\">\n",
        "<thead>\n",
        "  <tr>\n",
        "  <th>Name</th>\n",
        "  <th>Class</th>\n",
        "  <th></th>\n",
        "  </tr>\n",
        "</thead>\n",
        "<tbody>\n",
        "  \n",
        "  <tr>\n",
        "    <td>alignment</td>\n",
        "    <td>&lt;class &#39;railroadtracks.model.files.BAMFile&#39;&gt;</td>\n",
        "    <td class=\"\">(\"defined\")</td>\n",
        "  </tr>\n",
        "  \n",
        "</tbody>\n",
        "</table>\n",
        "\n",
        "</td>\n",
        "</tr>\n",
        "<tr><td>Parameters</td><td>('-k', '10')</td></tr>\n",
        "</tbody>\n",
        "</table>"
       ],
       "metadata": {},
       "output_type": "display_data",
       "text": [
        "<railroadtracks.easy.Task at 0x10aa2df90>"
       ]
      }
     ],
     "prompt_number": 53
    },
    {
     "cell_type": "code",
     "collapsed": false,
     "input": [
      "display(project)"
     ],
     "language": "python",
     "metadata": {},
     "outputs": [
      {
       "html": [
        "<style>\n",
        "\n",
        "table.rsrsproject {\n",
        "  width: 100%;\n",
        "  max-width: 40em;\n",
        "  border-collapse:separate;\n",
        "  border:solid black 2px;\n",
        "  -moz-border-radius:6px;\n",
        "  -webkit-border-radius:6px;\n",
        "  border-radius:6px;\n",
        "}\n",
        "table.rsrsproject thead {\n",
        "  background-color:rgb(235,235,235);\n",
        "}\n",
        "table.rsrsproject th:first-child {\n",
        "  -moz-border-radius:6px 0 0 0;\n",
        "  -webkit-border-radius:6px 0 0 0;\n",
        "  border-radius:6px 0 0 0;\n",
        "}\n",
        "table.rsrsproject th:last-child {\n",
        "  -moz-border-radius: 0 6px 0 0;\n",
        "  -webkit-border-radius: 0 6px 0 0;\n",
        "  border-radius: 0 6px 0 0;\n",
        "}\n",
        "table.rsrsproject th:only-child {\n",
        "  -moz-border-radius: 6px 6px 0 0;\n",
        "  -webkit-border-radius: 6px 6px 0 0;\n",
        "  border-radius: 6px 6px 0 0;\n",
        "}\n",
        "table.rsrsproject .inverse {\n",
        "  background-color: rgb(50,50,50);\n",
        "  color: rgb(230,230,230);\n",
        "}\n",
        "\n",
        "progress.rsrsproject {\n",
        "  -webkit-appearance:none;\n",
        "  -moz-appearance:none;\n",
        "  appearance:none;\n",
        "}\n",
        "progress[value].rsrsproject::-webkit-progress-bar {\n",
        "  background-color: rgb(230,230,230);\n",
        "  box-shadow: 0 2px 5px rgba(0,0,0,0.25) inset;\n",
        "}\n",
        "progress[value].rsrsproject::-webkit-progress-value {\n",
        "  background-color: rgb(150,150,250);\n",
        "}\n",
        "progress[value].rsrsproject {\n",
        "  border: none;\n",
        "  box-shadow: 0 2px 5px rgba(0,0,0,0.25) inset;\n",
        "}\n",
        "progress[value].rsrsproject::-moz-progress-bar {\n",
        "  background-color: rgb(150,150,250);\n",
        "}\n",
        "\n",
        "</style>\n",
        "<table class=\"rsrsproject\">\n",
        "<thead>\n",
        "  <tr>\n",
        "    <th colspan=\"2\">\n",
        "      New \"railroadtracks\" project\n",
        "    </th>\n",
        "  </tr>\n",
        "  <tr>\n",
        "    <th colspan=\"2\">Working directory</th>\n",
        "  </tr>\n",
        "</thead>\n",
        "<tbody>\n",
        "  <tr>\n",
        "    <td colspan=\"2\">/tmp/dummy_project</td>\n",
        "  </tr>\n",
        "  <tr>\n",
        "    <td>Disk space</td>\n",
        "    <td><progress class=\"rsrsproject\" max=\"464\" value=\"123\"></progress>&nbsp;123.00GB (total: 464.00GB)</td>\n",
        "  </tr>\n",
        "</tbody>\n",
        "<thead>\n",
        "  <tr>\n",
        "    <td colspan=\"2\">Tasks</td>\n",
        "  </tr>\n",
        "</thead>\n",
        "<tbody>\n",
        "  \n",
        "  <tr>\n",
        "    <td>Done</td>\n",
        "    <td><progress class=\"rsrsproject\" max=\"7\" value=\"4\"></progress>&nbsp;4/7</td>\n",
        "  </tr>\n",
        "  \n",
        "  <tr>\n",
        "    <td>To do</td>\n",
        "    <td><progress class=\"rsrsproject\" max=\"7\" value=\"3\"></progress>&nbsp;3/7</td>\n",
        "  </tr>\n",
        "  \n",
        "</tbody>\n",
        "</table>\n",
        "<table  class=\"rsrsproject\">\n",
        "<thead>\n",
        "  <tr>\n",
        "  <th>Activity</th>\n",
        "  <th>Progress</th>\n",
        "  </tr>\n",
        "</thead>\n",
        "<tbody>\n",
        "  \n",
        "  <tr>\n",
        "    <td>Index</td>\n",
        "    <td><progress class=\"rsrsproject\" max=\"1\" value=\"1\"></progress>&nbsp;1/1</td>\n",
        "  </tr>\n",
        "  \n",
        "  <tr>\n",
        "    <td>Align</td>\n",
        "    <td><progress class=\"rsrsproject\" max=\"6\" value=\"3\"></progress>&nbsp;3/6</td>\n",
        "  </tr>\n",
        "  \n",
        "</tbody>\n",
        "</table>\n",
        "<table class=\"rsrsproject\">\n",
        "<thead>\n",
        "  <tr>\n",
        "  <th>Result Type</th>\n",
        "  <th>Progress</th>\n",
        "  </tr>\n",
        "</thead>\n",
        "<tbody>\n",
        "  \n",
        "  <tr>\n",
        "    <td>BAMFile</td>\n",
        "    <td><progress class=\"rsrsproject\" max=\"6\" value=\"3\"></progress>&nbsp;3/6</td>\n",
        "  </tr>\n",
        "  \n",
        "</tbody>\n",
        "</table>"
       ],
       "metadata": {},
       "output_type": "display_data",
       "text": [
        "\n",
        "New project\n",
        "Working directory: /tmp/dummy_project\n",
        "Database file: /tmp/dummy_project/railroadtracks.db\n",
        "Number of recorded steps: 7"
       ]
      }
     ],
     "prompt_number": 54
    },
    {
     "cell_type": "markdown",
     "metadata": {},
     "source": [
      "Running tasks in a set has been shown earlier:"
     ]
    },
    {
     "cell_type": "code",
     "collapsed": false,
     "input": [
      "mpe.map(ts)"
     ],
     "language": "python",
     "metadata": {},
     "outputs": [
      {
       "output_type": "stream",
       "stream": "stdout",
       "text": [
        "DbID(id=5, new=True): Done\n",
        "DbID(id=6, new=True): Done\n",
        "DbID(id=7, new=True): Done\n"
       ]
      },
      {
       "metadata": {},
       "output_type": "pyout",
       "prompt_number": 55,
       "text": [
        "Counter({'Done': 3})"
       ]
      }
     ],
     "prompt_number": 55
    },
    {
     "cell_type": "markdown",
     "metadata": {},
     "source": [
      "Fetching the results (targets) of an activity is done as follows (here we want the alignments)."
     ]
    },
    {
     "cell_type": "code",
     "collapsed": false,
     "input": [
      "results = project.get_targetsofactivity(rnaseq.ACTIVITY.ALIGN)"
     ],
     "language": "python",
     "metadata": {},
     "outputs": [],
     "prompt_number": 56
    },
    {
     "cell_type": "markdown",
     "metadata": {},
     "source": [
      "For simple provenance graphs, a list of all steps involved will be sufficient to represent the provenance as a table:"
     ]
    },
    {
     "cell_type": "code",
     "collapsed": false,
     "input": [
      "up = easy.get_steplist_up(project, results)"
     ],
     "language": "python",
     "metadata": {},
     "outputs": [],
     "prompt_number": 57
    },
    {
     "cell_type": "markdown",
     "metadata": {},
     "source": [
      "The function `get_steplist_up` is walking up the dependency graph for each element in the sequence `results` and retrieves information about the tasks met along that walk. Note that we are going from a graph to a list, and that information about ordering of the step cannot be ensured.\n",
      "\n",
      "Obviously `up` and `results` have equal length:"
     ]
    },
    {
     "cell_type": "code",
     "collapsed": false,
     "input": [
      "len(up) == len(results)"
     ],
     "language": "python",
     "metadata": {},
     "outputs": [
      {
       "metadata": {},
       "output_type": "pyout",
       "prompt_number": 58,
       "text": [
        "True"
       ]
      }
     ],
     "prompt_number": 58
    },
    {
     "cell_type": "code",
     "collapsed": false,
     "input": [
      "import json, pandas\n",
      "df = pandas.DataFrame(columns=['resultid',\n",
      "                               'result_file',\n",
      "                               'indexstep', 'indexparams',\n",
      "                               'alignstep', 'alignparams'],\n",
      "                      index=range(len(results)))\n",
      "for row_i, (res, seq) in enumerate(zip(results, up)):\n",
      "    gn = ((y.clsname, ' '.join(json.loads(y.parameters))) for y in seq)\n",
      "    aligner, aligner_params = next(gn)\n",
      "    indexer, indexer_params = next(gn)\n",
      "    res.id\n",
      "    res.entityname\n",
      "    df.loc[row_i] = pandas.Series({\n",
      "        'resultid': res.id,\n",
      "        'result_file': res.entityname,\n",
      "        'indexstep': indexer, 'indexparams': indexer_params,\n",
      "        'alignstep': aligner, 'alignparams': aligner_params})\n",
      "df"
     ],
     "language": "python",
     "metadata": {},
     "outputs": [
      {
       "html": [
        "<div style=\"max-height:1000px;max-width:1500px;overflow:auto;\">\n",
        "<table border=\"1\" class=\"dataframe\">\n",
        "  <thead>\n",
        "    <tr style=\"text-align: right;\">\n",
        "      <th></th>\n",
        "      <th>resultid</th>\n",
        "      <th>result_file</th>\n",
        "      <th>indexstep</th>\n",
        "      <th>indexparams</th>\n",
        "      <th>alignstep</th>\n",
        "      <th>alignparams</th>\n",
        "    </tr>\n",
        "  </thead>\n",
        "  <tbody>\n",
        "    <tr>\n",
        "      <th>0</th>\n",
        "      <td>  5</td>\n",
        "      <td> /tmp/dummy_project/step_2/7c1e5697-4e30-11e4-a...</td>\n",
        "      <td> railroadtracks.model.aligners.Bowtie2Build</td>\n",
        "      <td> </td>\n",
        "      <td> railroadtracks.model.aligners.Bowtie2</td>\n",
        "      <td>      </td>\n",
        "    </tr>\n",
        "    <tr>\n",
        "      <th>1</th>\n",
        "      <td>  8</td>\n",
        "      <td> /tmp/dummy_project/step_3/7db449c0-4e30-11e4-a...</td>\n",
        "      <td> railroadtracks.model.aligners.Bowtie2Build</td>\n",
        "      <td> </td>\n",
        "      <td> railroadtracks.model.aligners.Bowtie2</td>\n",
        "      <td>      </td>\n",
        "    </tr>\n",
        "    <tr>\n",
        "      <th>2</th>\n",
        "      <td> 11</td>\n",
        "      <td> /tmp/dummy_project/step_4/7db4dcd1-4e30-11e4-8...</td>\n",
        "      <td> railroadtracks.model.aligners.Bowtie2Build</td>\n",
        "      <td> </td>\n",
        "      <td> railroadtracks.model.aligners.Bowtie2</td>\n",
        "      <td>      </td>\n",
        "    </tr>\n",
        "    <tr>\n",
        "      <th>3</th>\n",
        "      <td> 12</td>\n",
        "      <td> /tmp/dummy_project/step_5/7f1088c5-4e30-11e4-9...</td>\n",
        "      <td> railroadtracks.model.aligners.Bowtie2Build</td>\n",
        "      <td> </td>\n",
        "      <td> railroadtracks.model.aligners.Bowtie2</td>\n",
        "      <td> -k 10</td>\n",
        "    </tr>\n",
        "    <tr>\n",
        "      <th>4</th>\n",
        "      <td> 13</td>\n",
        "      <td> /tmp/dummy_project/step_6/7f1113ca-4e30-11e4-8...</td>\n",
        "      <td> railroadtracks.model.aligners.Bowtie2Build</td>\n",
        "      <td> </td>\n",
        "      <td> railroadtracks.model.aligners.Bowtie2</td>\n",
        "      <td> -k 10</td>\n",
        "    </tr>\n",
        "    <tr>\n",
        "      <th>5</th>\n",
        "      <td> 14</td>\n",
        "      <td> /tmp/dummy_project/step_7/7f119a33-4e30-11e4-8...</td>\n",
        "      <td> railroadtracks.model.aligners.Bowtie2Build</td>\n",
        "      <td> </td>\n",
        "      <td> railroadtracks.model.aligners.Bowtie2</td>\n",
        "      <td> -k 10</td>\n",
        "    </tr>\n",
        "  </tbody>\n",
        "</table>\n",
        "</div>"
       ],
       "metadata": {},
       "output_type": "pyout",
       "prompt_number": 59,
       "text": [
        "  resultid                                        result_file  \\\n",
        "0        5  /tmp/dummy_project/step_2/7c1e5697-4e30-11e4-a...   \n",
        "1        8  /tmp/dummy_project/step_3/7db449c0-4e30-11e4-a...   \n",
        "2       11  /tmp/dummy_project/step_4/7db4dcd1-4e30-11e4-8...   \n",
        "3       12  /tmp/dummy_project/step_5/7f1088c5-4e30-11e4-9...   \n",
        "4       13  /tmp/dummy_project/step_6/7f1113ca-4e30-11e4-8...   \n",
        "5       14  /tmp/dummy_project/step_7/7f119a33-4e30-11e4-8...   \n",
        "\n",
        "                                    indexstep indexparams  \\\n",
        "0  railroadtracks.model.aligners.Bowtie2Build               \n",
        "1  railroadtracks.model.aligners.Bowtie2Build               \n",
        "2  railroadtracks.model.aligners.Bowtie2Build               \n",
        "3  railroadtracks.model.aligners.Bowtie2Build               \n",
        "4  railroadtracks.model.aligners.Bowtie2Build               \n",
        "5  railroadtracks.model.aligners.Bowtie2Build               \n",
        "\n",
        "                               alignstep alignparams  \n",
        "0  railroadtracks.model.aligners.Bowtie2              \n",
        "1  railroadtracks.model.aligners.Bowtie2              \n",
        "2  railroadtracks.model.aligners.Bowtie2              \n",
        "3  railroadtracks.model.aligners.Bowtie2       -k 10  \n",
        "4  railroadtracks.model.aligners.Bowtie2       -k 10  \n",
        "5  railroadtracks.model.aligners.Bowtie2       -k 10  "
       ]
      }
     ],
     "prompt_number": 59
    },
    {
     "cell_type": "markdown",
     "metadata": {},
     "source": [
      "The table above is strongly centered on results files (the only files reported in the table), with all columns reporting the step and parameters used.\n",
      "\n",
      "Earlier data files (original data or intermediate derived data) might also be desirable. This can be achieved relatively easily by using the list `up` we built earlier."
     ]
    },
    {
     "cell_type": "code",
     "collapsed": false,
     "input": [
      "for elt in up[0]:\n",
      "    # `elt` is has an ID that corresponds to a task\n",
      "    ancestor_task = project.get_task(elt)\n",
      "    # The source assets can be extracted\n",
      "    for src_asset in project.iter_srcassets(ancestor_task):\n",
      "        print(\"%s: %s\" % (type(src_asset.entity).__name__, src_asset.entity.name))"
     ],
     "language": "python",
     "metadata": {},
     "outputs": [
      {
       "output_type": "stream",
       "stream": "stdout",
       "text": [
        "SavedBowtie2Index: /tmp/dummy_project/step_1/761399a8-4e30-11e4-8cee-b8e8562d6a92\n",
        "FASTQPossiblyGzipCompressed: ./A_1_1.fq\n",
        "FASTQPossiblyGzipCompressed: ./A_1_2.fq\n",
        "SavedFASTA: /Users/thisuser/Projects/py27_env/lib/python2.7/site-packages/railroadtracks-0.3.0_dev-py2.7.egg/railroadtracks/EF204940.FASTA\n"
       ]
      }
     ],
     "prompt_number": 60
    },
    {
     "cell_type": "markdown",
     "metadata": {},
     "source": [
      "If only the root source assets are required, they can be filtered out very easily:"
     ]
    },
    {
     "cell_type": "code",
     "collapsed": false,
     "input": [
      "for elt in up[0]:\n",
      "    # `elt` is has an ID that corresponds to a task\n",
      "    ancestor_task = project.get_task(elt)\n",
      "    # The source assets, that is the assets used by the task, can be extracted\n",
      "    for src_asset in ancestor_task.iter_sourceassets():\n",
      "        parent_task = src_asset.parenttask\n",
      "        if parent_task is None:\n",
      "            # This source asset does not have a parent task in the project\n",
      "            # It is therefore considered a root asset in railroadtracks\n",
      "            # (the asset might originate from earlier steps, but they are not stored in the project)\n",
      "            print(\"%s: %s\" % (type(src_asset.entity).__name__, src_asset.entity.name))"
     ],
     "language": "python",
     "metadata": {},
     "outputs": [
      {
       "output_type": "stream",
       "stream": "stdout",
       "text": [
        "FASTQPossiblyGzipCompressed: ./A_1_1.fq\n",
        "FASTQPossiblyGzipCompressed: ./A_1_2.fq\n",
        "SavedFASTA: /Users/thisuser/Projects/py27_env/lib/python2.7/site-packages/railroadtracks-0.3.0_dev-py2.7.egg/railroadtracks/EF204940.FASTA\n"
       ]
      }
     ],
     "prompt_number": 61
    },
    {
     "cell_type": "markdown",
     "metadata": {},
     "source": [
      "This lets us associate any given result with the original data files, no matter how far up the dependency tree, that were used to produce them:"
     ]
    },
    {
     "cell_type": "code",
     "collapsed": false,
     "input": [
      "import os\n",
      "up = easy.get_steplist_up(project, results)\n",
      "for res, tasklist in zip(results, up):\n",
      "    print(\"Result ID %i is the direct or indirect product of the original files:\" % res.id)\n",
      "    for elt in tasklist:\n",
      "        # `elt` is has an ID that corresponds to a task\n",
      "        ancestor_task = project.get_task(elt)\n",
      "        # The source assets, that is the assets used by the task, can be extracted\n",
      "        for src_asset in ancestor_task.iter_sourceassets():\n",
      "            parent_task = src_asset.parenttask\n",
      "            if parent_task is None:\n",
      "                # This source asset does not have a parent task in the project\n",
      "                # It is therefore considered a root asset in railroadtracks\n",
      "                # (the asset might originate from earlier steps, but they are not stored in the project)\n",
      "                print(\"    %s: %s\" % (type(src_asset.entity).__name__, os.path.basename(src_asset.entity.name)))\n",
      "    print(\"------\")"
     ],
     "language": "python",
     "metadata": {},
     "outputs": [
      {
       "output_type": "stream",
       "stream": "stdout",
       "text": [
        "Result ID 5 is the direct or indirect product of the original files:\n",
        "    FASTQPossiblyGzipCompressed: A_1_1.fq\n",
        "    FASTQPossiblyGzipCompressed: A_1_2.fq\n",
        "    SavedFASTA: EF204940.FASTA\n",
        "------\n",
        "Result ID 8 is the direct or indirect product of the original files:\n",
        "    FASTQPossiblyGzipCompressed: A_2_1.fq\n",
        "    FASTQPossiblyGzipCompressed: A_2_2.fq\n",
        "    SavedFASTA: EF204940.FASTA\n",
        "------\n",
        "Result ID 11 is the direct or indirect product of the original files:\n",
        "    FASTQPossiblyGzipCompressed: A_3_1.fq\n",
        "    FASTQPossiblyGzipCompressed: A_3_2.fq\n",
        "    SavedFASTA: EF204940.FASTA\n",
        "------\n",
        "Result ID 12 is the direct or indirect product of the original files:\n",
        "    FASTQPossiblyGzipCompressed: A_1_1.fq\n",
        "    FASTQPossiblyGzipCompressed: A_1_2.fq\n",
        "    SavedFASTA: EF204940.FASTA\n",
        "------\n",
        "Result ID 13 is the direct or indirect product of the original files:\n",
        "    FASTQPossiblyGzipCompressed: A_2_1.fq\n",
        "    FASTQPossiblyGzipCompressed: A_2_2.fq\n",
        "    SavedFASTA: EF204940.FASTA\n",
        "------\n",
        "Result ID 14 is the direct or indirect product of the original files:\n",
        "    FASTQPossiblyGzipCompressed: A_3_1.fq\n",
        "    FASTQPossiblyGzipCompressed: A_3_2.fq\n",
        "    SavedFASTA: EF204940.FASTA\n",
        "------\n"
       ]
      }
     ],
     "prompt_number": 62
    },
    {
     "cell_type": "markdown",
     "metadata": {},
     "source": [
      "Alternatively, it is possible to start directly from a task. To demonstrate this we use one of the alignment tasks we defined ealier."
     ]
    },
    {
     "cell_type": "code",
     "collapsed": false,
     "input": [
      "task = project.add_task(bowtie2,\n",
      "                        Assets(Assets.Source(index_task.call.assets.target.indexfilepattern,\n",
      "                                             FASTQ(pairnames[i][0]),\n",
      "                                             FASTQ(pairnames[i][1])),\n",
      "                               Assets.Target.createundefined()),\n",
      "                        parameters = ('-k', '10'))"
     ],
     "language": "python",
     "metadata": {},
     "outputs": [],
     "prompt_number": 63
    },
    {
     "cell_type": "markdown",
     "metadata": {},
     "source": [
      "The primordial tasks can be obtained easily."
     ]
    },
    {
     "cell_type": "code",
     "collapsed": false,
     "input": [
      "root_taskset = task.primordial_tasks()"
     ],
     "language": "python",
     "metadata": {},
     "outputs": [],
     "prompt_number": 64
    },
    {
     "cell_type": "markdown",
     "metadata": {},
     "source": [
      "From those, the raw data files all results from the task were derived from are one line of code away:"
     ]
    },
    {
     "cell_type": "code",
     "collapsed": false,
     "input": [
      "raw_data = [a.entity for t in root_taskset for a in t.iter_sourceassets() if a.parenttask is None]\n",
      "print(\"The task depends on the following raw data files:\")\n",
      "for elt in raw_data:\n",
      "    for cls, fn in elt.iteritems():\n",
      "        print('* %s' % fn)"
     ],
     "language": "python",
     "metadata": {},
     "outputs": [
      {
       "output_type": "stream",
       "stream": "stdout",
       "text": [
        "The task depends on the following raw data files:\n",
        "* ./A_3_1.fq\n",
        "* ./A_3_2.fq\n",
        "* /Users/thisuser/Projects/py27_env/lib/python2.7/site-packages/railroadtracks-0.3.0_dev-py2.7.egg/railroadtracks/EF204940.FASTA\n"
       ]
      }
     ],
     "prompt_number": 65
    },
    {
     "cell_type": "code",
     "collapsed": false,
     "input": [
      "res = list()\n",
      "for t in root_taskset:\n",
      "    for a in t.iter_sourceassets():\n",
      "        if a.parenttask is None:\n",
      "            res.append(a.entity)"
     ],
     "language": "python",
     "metadata": {},
     "outputs": [],
     "prompt_number": 66
    }
   ],
   "metadata": {}
  }
 ]
}
